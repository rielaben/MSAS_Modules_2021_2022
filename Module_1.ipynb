{
  "nbformat": 4,
  "nbformat_minor": 0,
  "metadata": {
    "colab": {
      "name": "Module_1.ipynb",
      "provenance": [],
      "collapsed_sections": []
    },
    "kernelspec": {
      "name": "python3",
      "display_name": "Python 3"
    },
    "language_info": {
      "name": "python"
    }
  },
  "cells": [
    {
      "cell_type": "markdown",
      "metadata": {
        "id": "HbPappRK4YkG"
      },
      "source": [
        "# **MSAS Tutorial 1**\n",
        "##**Authored by Benjamin (Ben) Riela**\n",
        "\n",
        "**Resource for this notebook:** https://colab.research.google.com/notebooks/intro.ipynb?utm_source=scs-index#scrollTo=GJBs_flRovLc\n"
      ]
    },
    {
      "cell_type": "markdown",
      "metadata": {
        "id": "oh0SrcVR5Qv-"
      },
      "source": [
        "## Welcome to your first module!\n",
        "\n",
        "This document is a special type of coding file, called an ipynb file \n",
        "\n",
        "- Any guesses what this means?"
      ]
    },
    {
      "cell_type": "markdown",
      "metadata": {
        "id": "owZj9Aj-9Sz1"
      },
      "source": [
        "ipynb files can be run on a variety of platforms:\n",
        "- Most common are Jupyter (Jupyter Notebook, JupyterLab - we will see this in future tutorials, industry standard) and Google Collab.\n",
        "\n"
      ]
    },
    {
      "cell_type": "markdown",
      "metadata": {
        "id": "6f0VM4gh9Wp8"
      },
      "source": [
        "Google Collab is in my opinion the easiest to start coding with:\n",
        "- Its UI (User Interface) is easy to understand\n",
        "- You can store it right in your Google Drive and access it anywhere\n",
        "- You can have multiple people edit code at once, like a Google Doc\n"
      ]
    },
    {
      "cell_type": "markdown",
      "metadata": {
        "id": "-AU9z_z69buT"
      },
      "source": [
        "This page is what Google calls \"an interactive environment\" where you can write and run code online (as opposed to when we download Anaconda on our own computers)\n",
        "\n",
        "There are two kinds of cells:\n",
        "- Text/Markdown cell: you can write plain English in this cell, none of this will be run as code\n",
        "- More information on Markdown cells can be found here (https://colab.research.google.com/notebooks/markdown_guide.ipynb#scrollTo=Lhfnlq1Surtk)\n",
        "- Code cell: where you write all your code \n",
        "- If there are errors, the code will stop running and output an error message \n",
        "- You can write plain english in a code cell by using the '#' character on a particular line (example below), this is called a comment"
      ]
    },
    {
      "cell_type": "markdown",
      "metadata": {
        "id": "ZBtrQLw49eVL"
      },
      "source": [
        "##Cells\n",
        "\n",
        "A cell executes a block of code\n",
        "- Most often are run sequentially (in terms of the notebook)\n",
        "- We will see more of this later\n",
        "- \"Run\" (execute) a cell by shift+enter\n",
        "- Cells can be run in any order you want (but as beginners you should run them in order)"
      ]
    },
    {
      "cell_type": "code",
      "metadata": {
        "id": "ALdDIcL5QE_N"
      },
      "source": [
        "k = 3"
      ],
      "execution_count": null,
      "outputs": []
    },
    {
      "cell_type": "code",
      "metadata": {
        "id": "62PpznaWQJy_"
      },
      "source": [
        "k = 7"
      ],
      "execution_count": null,
      "outputs": []
    },
    {
      "cell_type": "code",
      "metadata": {
        "colab": {
          "base_uri": "https://localhost:8080/"
        },
        "id": "CiI8EjMDQLZv",
        "outputId": "271a4df3-ecd4-4ba2-de66-54bba9d7e48b"
      },
      "source": [
        "print(k)"
      ],
      "execution_count": null,
      "outputs": [
        {
          "output_type": "stream",
          "name": "stdout",
          "text": [
            "7\n"
          ]
        }
      ]
    },
    {
      "cell_type": "markdown",
      "metadata": {
        "id": "PZKVpk_x-DqU"
      },
      "source": [
        "##Variables in Python\n",
        "- Variables are containers for storing data values.\n",
        "- A variable is created the moment you first assign a value to it. (You don’t have to assign a type to variables at declaration)\n",
        "- Initialize a variable using the following format: name = value"
      ]
    },
    {
      "cell_type": "code",
      "metadata": {
        "id": "OxYdiIv8-adG"
      },
      "source": [
        "x = 5 \n",
        "# (x is now an integer)\n",
        "y = \"Ben\" \n",
        "# (y is now a string)\n",
        "y = \"Michigan\" \n",
        "# (x is now a string – the types can change after declaration)\n",
        "MJ_average_ppg = 30.1 \n",
        "# (average_points is now a “float”/decimal)\n"
      ],
      "execution_count": null,
      "outputs": []
    },
    {
      "cell_type": "markdown",
      "metadata": {
        "id": "u1mDRDbuATdb"
      },
      "source": [
        "- You can print a variable by calling the \"print\" function, or if the variable is on the last line of the cell, you can simply just write the variable"
      ]
    },
    {
      "cell_type": "code",
      "metadata": {
        "colab": {
          "base_uri": "https://localhost:8080/"
        },
        "id": "C1Ag5dP94ZPg",
        "outputId": "76d6a3d3-bb3d-4c99-b173-2f40f4ee51bd"
      },
      "source": [
        "print(y)"
      ],
      "execution_count": null,
      "outputs": [
        {
          "output_type": "stream",
          "name": "stdout",
          "text": [
            "Michigan\n"
          ]
        }
      ]
    },
    {
      "cell_type": "code",
      "metadata": {
        "colab": {
          "base_uri": "https://localhost:8080/",
          "height": 35
        },
        "id": "-EcaE14UAhS4",
        "outputId": "3ee8f353-259a-42f8-c3a5-1c18713b93b2"
      },
      "source": [
        "y"
      ],
      "execution_count": null,
      "outputs": [
        {
          "output_type": "execute_result",
          "data": {
            "application/vnd.google.colaboratory.intrinsic+json": {
              "type": "string"
            },
            "text/plain": [
              "'Michigan'"
            ]
          },
          "metadata": {},
          "execution_count": 6
        }
      ]
    },
    {
      "cell_type": "code",
      "metadata": {
        "colab": {
          "base_uri": "https://localhost:8080/"
        },
        "id": "gbkmLT9m_LD5",
        "outputId": "fa1798e2-4914-4329-a7cf-9e66d831856a"
      },
      "source": [
        "print(x)\n",
        "print(MJ_average_ppg)"
      ],
      "execution_count": null,
      "outputs": [
        {
          "output_type": "stream",
          "name": "stdout",
          "text": [
            "5\n",
            "30.1\n"
          ]
        }
      ]
    },
    {
      "cell_type": "code",
      "metadata": {
        "id": "9Rbs-fCZ_Xwq"
      },
      "source": [
        "# comment the print statement out to get an error message\n",
        "# this is supposed to be an error, because 'a' isn't a variable yet\n",
        "# print(a)"
      ],
      "execution_count": null,
      "outputs": []
    },
    {
      "cell_type": "markdown",
      "metadata": {
        "id": "KLGI9h7VAqOj"
      },
      "source": [
        "##Variable Types\n",
        "The most popular variable types in Python are:\n",
        "- Integer (5)\n",
        "- Float (5.5)\n",
        "- String (\"5\")\n",
        "- Boolean (True or False), needs to be capitalized\n",
        "\n",
        "\n"
      ]
    },
    {
      "cell_type": "code",
      "metadata": {
        "id": "IJHhHyP2_jiz"
      },
      "source": [
        "a = 5\n",
        "b = 5.5\n",
        "c = \"5\"\n",
        "d = True"
      ],
      "execution_count": null,
      "outputs": []
    },
    {
      "cell_type": "code",
      "metadata": {
        "colab": {
          "base_uri": "https://localhost:8080/"
        },
        "id": "rBxo0S9lBY0V",
        "outputId": "ed6fab01-bb9b-4d5f-aed5-66d3050fa6f6"
      },
      "source": [
        "print(type(a))\n",
        "print(type(b))\n",
        "print(type(c))\n",
        "print(type(d))"
      ],
      "execution_count": null,
      "outputs": [
        {
          "output_type": "stream",
          "name": "stdout",
          "text": [
            "<class 'int'>\n",
            "<class 'float'>\n",
            "<class 'str'>\n",
            "<class 'bool'>\n"
          ]
        }
      ]
    },
    {
      "cell_type": "markdown",
      "metadata": {
        "id": "KiCVIxEjCJ5d"
      },
      "source": [
        "##Operations\n",
        "Finally, we can perform operations on our variables, like below:"
      ]
    },
    {
      "cell_type": "code",
      "metadata": {
        "colab": {
          "base_uri": "https://localhost:8080/"
        },
        "id": "p-v6Ywm1B_WW",
        "outputId": "b6398c06-c9b4-42b1-d8be-c35f71a52266"
      },
      "source": [
        "added = a + b\n",
        "print(added)\n",
        "subtracted = added - 3\n",
        "print(subtracted)"
      ],
      "execution_count": null,
      "outputs": [
        {
          "output_type": "stream",
          "name": "stdout",
          "text": [
            "10.5\n",
            "7.5\n"
          ]
        }
      ]
    },
    {
      "cell_type": "markdown",
      "metadata": {
        "id": "LveXyApqC6G6"
      },
      "source": [
        "Basic shared operator for integers and floats:\n",
        "- Addition (+)\n",
        "- Subtraction (-)\n",
        "- Multiplication (*)\n",
        "- Division (/)\n",
        "- Exponents (**)"
      ]
    },
    {
      "cell_type": "code",
      "metadata": {
        "colab": {
          "base_uri": "https://localhost:8080/"
        },
        "id": "dZclr51uDAHp",
        "outputId": "2a258925-b42e-433d-daad-17d5755b0971"
      },
      "source": [
        "5+5"
      ],
      "execution_count": null,
      "outputs": [
        {
          "output_type": "execute_result",
          "data": {
            "text/plain": [
              "10"
            ]
          },
          "metadata": {},
          "execution_count": 12
        }
      ]
    },
    {
      "cell_type": "code",
      "metadata": {
        "colab": {
          "base_uri": "https://localhost:8080/"
        },
        "id": "SayY5yTGDC5b",
        "outputId": "93d8d4bf-d31e-470e-d8a3-f858900b3e4c"
      },
      "source": [
        "5-5"
      ],
      "execution_count": null,
      "outputs": [
        {
          "output_type": "execute_result",
          "data": {
            "text/plain": [
              "0"
            ]
          },
          "metadata": {},
          "execution_count": 13
        }
      ]
    },
    {
      "cell_type": "code",
      "metadata": {
        "colab": {
          "base_uri": "https://localhost:8080/"
        },
        "id": "F0GnWj3cDGGj",
        "outputId": "ed5448f4-3740-4794-9a60-0e401432bb96"
      },
      "source": [
        "5*5"
      ],
      "execution_count": null,
      "outputs": [
        {
          "output_type": "execute_result",
          "data": {
            "text/plain": [
              "25"
            ]
          },
          "metadata": {},
          "execution_count": 14
        }
      ]
    },
    {
      "cell_type": "code",
      "metadata": {
        "colab": {
          "base_uri": "https://localhost:8080/"
        },
        "id": "cYjYlq-OOiY7",
        "outputId": "3f4ff6e7-2952-48d5-a762-b7384d91f4c4"
      },
      "source": [
        "5/5"
      ],
      "execution_count": null,
      "outputs": [
        {
          "output_type": "execute_result",
          "data": {
            "text/plain": [
              "1.0"
            ]
          },
          "metadata": {},
          "execution_count": 15
        }
      ]
    },
    {
      "cell_type": "code",
      "metadata": {
        "colab": {
          "base_uri": "https://localhost:8080/"
        },
        "id": "4lihQpIbDHkn",
        "outputId": "5d7dffc6-3097-461c-e601-bf69f553cb99"
      },
      "source": [
        "# 5^5\n",
        "5**5"
      ],
      "execution_count": null,
      "outputs": [
        {
          "output_type": "execute_result",
          "data": {
            "text/plain": [
              "3125"
            ]
          },
          "metadata": {},
          "execution_count": 16
        }
      ]
    },
    {
      "cell_type": "code",
      "metadata": {
        "id": "CeIdpSJnCPhA",
        "colab": {
          "base_uri": "https://localhost:8080/"
        },
        "outputId": "5f14874b-7987-43d5-ee33-b7a4adffecc3"
      },
      "source": [
        "# Standard order of operations rules are observed\n",
        "5 + 5 * 5 # same as 5 + (5 * 5)"
      ],
      "execution_count": null,
      "outputs": [
        {
          "output_type": "execute_result",
          "data": {
            "text/plain": [
              "30"
            ]
          },
          "metadata": {},
          "execution_count": 17
        }
      ]
    },
    {
      "cell_type": "markdown",
      "metadata": {
        "id": "imJUjZtJDkgO"
      },
      "source": [
        "You can also add string together:"
      ]
    },
    {
      "cell_type": "code",
      "metadata": {
        "id": "JumTgKeUCgL2"
      },
      "source": [
        "jim = \"Jimmmy Harbaugh...\"\n",
        "positive = \"is a great coach!\"\n",
        "not_so_positive = \"can't coach for his life. Gotta go\""
      ],
      "execution_count": null,
      "outputs": []
    },
    {
      "cell_type": "code",
      "metadata": {
        "colab": {
          "base_uri": "https://localhost:8080/",
          "height": 35
        },
        "id": "ZaI2RHq5D1Ea",
        "outputId": "8ef05b7a-f645-432c-8d9f-559a1eee4b88"
      },
      "source": [
        "jim + positive"
      ],
      "execution_count": null,
      "outputs": [
        {
          "output_type": "execute_result",
          "data": {
            "application/vnd.google.colaboratory.intrinsic+json": {
              "type": "string"
            },
            "text/plain": [
              "'Jimmmy Harbaugh...is a great coach!'"
            ]
          },
          "metadata": {},
          "execution_count": 19
        }
      ]
    },
    {
      "cell_type": "code",
      "metadata": {
        "colab": {
          "base_uri": "https://localhost:8080/",
          "height": 35
        },
        "id": "ELjcU129D6oY",
        "outputId": "c8060773-86a5-4419-fd43-b5070b65ed95"
      },
      "source": [
        "jim + not_so_positive"
      ],
      "execution_count": null,
      "outputs": [
        {
          "output_type": "execute_result",
          "data": {
            "application/vnd.google.colaboratory.intrinsic+json": {
              "type": "string"
            },
            "text/plain": [
              "\"Jimmmy Harbaugh...can't coach for his life. Gotta go\""
            ]
          },
          "metadata": {},
          "execution_count": 20
        }
      ]
    },
    {
      "cell_type": "markdown",
      "metadata": {
        "id": "sG97ikkYEESc"
      },
      "source": [
        "However, you can't add numbers and string together:"
      ]
    },
    {
      "cell_type": "code",
      "metadata": {
        "id": "jVwmidZeD_Nc"
      },
      "source": [
        "num_rings = 11\n",
        "win_string = \"Michigan Football Natl. Championships\"\n",
        "\n",
        "# un-comment the print statement to get the error message\n",
        "# print(win_string+num_rings)"
      ],
      "execution_count": null,
      "outputs": []
    },
    {
      "cell_type": "markdown",
      "metadata": {
        "id": "xIAf3h0oKYvF"
      },
      "source": [
        "##Next Steps\n",
        "\n",
        "Now try some code out for yourselves! Try working with variables and operations yourselves\n",
        "\n",
        "- Don't get discourages by error messages! They happen to even the best coders\n",
        "- If you do incur errors, the last line of the error message is what you want to look at\n",
        "- Google (specifically Stack Overflow) will be your best friend in solving error messages"
      ]
    },
    {
      "cell_type": "code",
      "metadata": {
        "id": "_4PtPrMMRnBw"
      },
      "source": [
        ""
      ],
      "execution_count": null,
      "outputs": []
    }
  ]
}