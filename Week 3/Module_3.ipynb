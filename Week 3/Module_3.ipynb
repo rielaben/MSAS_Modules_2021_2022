{
 "cells": [
  {
   "cell_type": "markdown",
   "metadata": {
    "id": "iGQqC-lBeNoD"
   },
   "source": [
    "# **MSAS Tutorial 3**\n",
    "##**Authored by Benjamin (Ben) Riela**"
   ]
  },
  {
   "cell_type": "markdown",
   "metadata": {
    "id": "9sKjMvzFeccY"
   },
   "source": [
    "Today we will be working more with Dataframes and practicing how to extract data that we want"
   ]
  },
  {
   "cell_type": "markdown",
   "metadata": {
    "id": "HaTxhoGnerOo"
   },
   "source": [
    "As usual, we start with our imports:"
   ]
  },
  {
   "cell_type": "code",
   "execution_count": null,
   "metadata": {
    "executionInfo": {
     "elapsed": 327,
     "status": "ok",
     "timestamp": 1633629948170,
     "user": {
      "displayName": "Benjamin Riela",
      "photoUrl": "https://lh3.googleusercontent.com/a-/AOh14GgH6tuxHx-HDI-e1GuO-RVlFibyHFp98Hz8Y0-JzA=s64",
      "userId": "15091259363240364085"
     },
     "user_tz": 240
    },
    "id": "jlNcotxHNxhr"
   },
   "outputs": [],
   "source": [
    "import pandas as pd"
   ]
  },
  {
   "cell_type": "markdown",
   "metadata": {
    "id": "m1oE2MgbjJ3s"
   },
   "source": [
    "For those working from Anaconda, make sure that this csv file is in the same directory (folder) as this notebook file is in"
   ]
  },
  {
   "cell_type": "markdown",
   "metadata": {
    "id": "C5-DKTIfE0JP"
   },
   "source": [
    "What is a csv file? Explain difference of local csv versus getting it from the internet."
   ]
  },
  {
   "cell_type": "code",
   "execution_count": null,
   "metadata": {
    "executionInfo": {
     "elapsed": 760,
     "status": "ok",
     "timestamp": 1633629949330,
     "user": {
      "displayName": "Benjamin Riela",
      "photoUrl": "https://lh3.googleusercontent.com/a-/AOh14GgH6tuxHx-HDI-e1GuO-RVlFibyHFp98Hz8Y0-JzA=s64",
      "userId": "15091259363240364085"
     },
     "user_tz": 240
    },
    "id": "DBGLLK2JNxhu"
   },
   "outputs": [],
   "source": [
    "file_name = \"nfl_passing_2020.csv\"\n",
    "\n",
    "# Read in csv file\n",
    "df = pd.read_csv(file_name)\n",
    "\n",
    "# if you want to read in the file from my GitHub (like we did last week), use this\n",
    "# If you are on this Notebook from Google Colab, you need to access the file this way\n",
    "# df = pd.read_csv(\"https://raw.githubusercontent.com/rielaben/MSAS_Modules_2021_2022/main/Week%202/nfl_passing_2020.csv\")\n"
   ]
  },
  {
   "cell_type": "markdown",
   "metadata": {
    "id": "5DGhIdf-jlLh"
   },
   "source": [
    "Same data from last week:"
   ]
  },
  {
   "cell_type": "code",
   "execution_count": null,
   "metadata": {
    "colab": {
     "base_uri": "https://localhost:8080/",
     "height": 204
    },
    "executionInfo": {
     "elapsed": 19,
     "status": "ok",
     "timestamp": 1633629949339,
     "user": {
      "displayName": "Benjamin Riela",
      "photoUrl": "https://lh3.googleusercontent.com/a-/AOh14GgH6tuxHx-HDI-e1GuO-RVlFibyHFp98Hz8Y0-JzA=s64",
      "userId": "15091259363240364085"
     },
     "user_tz": 240
    },
    "id": "uARkgllONxhv",
    "outputId": "09fd57da-8ee9-4429-a395-46b9622f3d8d"
   },
   "outputs": [],
   "source": [
    "df.head()"
   ]
  },
  {
   "cell_type": "markdown",
   "metadata": {
    "id": "wsfdN72mjo99"
   },
   "source": [
    "Review of print vs. display"
   ]
  },
  {
   "cell_type": "code",
   "execution_count": null,
   "metadata": {
    "colab": {
     "base_uri": "https://localhost:8080/"
    },
    "executionInfo": {
     "elapsed": 17,
     "status": "ok",
     "timestamp": 1633629949339,
     "user": {
      "displayName": "Benjamin Riela",
      "photoUrl": "https://lh3.googleusercontent.com/a-/AOh14GgH6tuxHx-HDI-e1GuO-RVlFibyHFp98Hz8Y0-JzA=s64",
      "userId": "15091259363240364085"
     },
     "user_tz": 240
    },
    "id": "f9IzmkXZNxhw",
    "outputId": "44ee22e6-c43c-4959-a335-c153f18639ba"
   },
   "outputs": [],
   "source": [
    "print(df)"
   ]
  },
  {
   "cell_type": "code",
   "execution_count": null,
   "metadata": {
    "colab": {
     "base_uri": "https://localhost:8080/",
     "height": 419
    },
    "executionInfo": {
     "elapsed": 14,
     "status": "ok",
     "timestamp": 1633629949340,
     "user": {
      "displayName": "Benjamin Riela",
      "photoUrl": "https://lh3.googleusercontent.com/a-/AOh14GgH6tuxHx-HDI-e1GuO-RVlFibyHFp98Hz8Y0-JzA=s64",
      "userId": "15091259363240364085"
     },
     "user_tz": 240
    },
    "id": "3cVRkG1fNxhw",
    "outputId": "6eafa480-a676-46d5-c43a-8fe1dd96b364",
    "scrolled": true
   },
   "outputs": [],
   "source": [
    "display(df)"
   ]
  },
  {
   "cell_type": "code",
   "execution_count": null,
   "metadata": {
    "colab": {
     "base_uri": "https://localhost:8080/",
     "height": 419
    },
    "executionInfo": {
     "elapsed": 13,
     "status": "ok",
     "timestamp": 1633629949340,
     "user": {
      "displayName": "Benjamin Riela",
      "photoUrl": "https://lh3.googleusercontent.com/a-/AOh14GgH6tuxHx-HDI-e1GuO-RVlFibyHFp98Hz8Y0-JzA=s64",
      "userId": "15091259363240364085"
     },
     "user_tz": 240
    },
    "id": "PgTHFbUVjura",
    "outputId": "181f751b-5e6d-421c-e3c9-7922ff3a2a5b"
   },
   "outputs": [],
   "source": [
    "x = 5\n",
    "# if the variable is written by itself on the last line of a code cell, it is the same as using display() function\n",
    "df"
   ]
  },
  {
   "cell_type": "code",
   "execution_count": null,
   "metadata": {
    "colab": {
     "base_uri": "https://localhost:8080/",
     "height": 419
    },
    "executionInfo": {
     "elapsed": 13,
     "status": "ok",
     "timestamp": 1633629949340,
     "user": {
      "displayName": "Benjamin Riela",
      "photoUrl": "https://lh3.googleusercontent.com/a-/AOh14GgH6tuxHx-HDI-e1GuO-RVlFibyHFp98Hz8Y0-JzA=s64",
      "userId": "15091259363240364085"
     },
     "user_tz": 240
    },
    "id": "sz0aowfxj5cR",
    "outputId": "d5f57003-fa0d-480e-e6ec-b21e576cdad5"
   },
   "outputs": [],
   "source": [
    "x = 6\n",
    "display(df)"
   ]
  },
  {
   "cell_type": "code",
   "execution_count": null,
   "metadata": {
    "executionInfo": {
     "elapsed": 13,
     "status": "ok",
     "timestamp": 1633629949341,
     "user": {
      "displayName": "Benjamin Riela",
      "photoUrl": "https://lh3.googleusercontent.com/a-/AOh14GgH6tuxHx-HDI-e1GuO-RVlFibyHFp98Hz8Y0-JzA=s64",
      "userId": "15091259363240364085"
     },
     "user_tz": 240
    },
    "id": "UcUjpS3OxwXT"
   },
   "outputs": [],
   "source": [
    "df\n",
    "x = 7"
   ]
  },
  {
   "cell_type": "markdown",
   "metadata": {
    "id": "paF3FQ1ekAqN"
   },
   "source": [
    "Who remembers how to print out the first and last n rows of a dataframe?"
   ]
  },
  {
   "cell_type": "code",
   "execution_count": null,
   "metadata": {
    "executionInfo": {
     "elapsed": 13,
     "status": "ok",
     "timestamp": 1633629949341,
     "user": {
      "displayName": "Benjamin Riela",
      "photoUrl": "https://lh3.googleusercontent.com/a-/AOh14GgH6tuxHx-HDI-e1GuO-RVlFibyHFp98Hz8Y0-JzA=s64",
      "userId": "15091259363240364085"
     },
     "user_tz": 240
    },
    "id": "CKZnCUhEkGb3"
   },
   "outputs": [],
   "source": [
    "# num_rows = 10"
   ]
  },
  {
   "cell_type": "markdown",
   "metadata": {
    "id": "RWfvhE_TkUgM"
   },
   "source": [
    "How do we find the size of the dataframe?"
   ]
  },
  {
   "cell_type": "code",
   "execution_count": null,
   "metadata": {
    "executionInfo": {
     "elapsed": 14,
     "status": "ok",
     "timestamp": 1633629949342,
     "user": {
      "displayName": "Benjamin Riela",
      "photoUrl": "https://lh3.googleusercontent.com/a-/AOh14GgH6tuxHx-HDI-e1GuO-RVlFibyHFp98Hz8Y0-JzA=s64",
      "userId": "15091259363240364085"
     },
     "user_tz": 240
    },
    "id": "xY24SeyTkXs-"
   },
   "outputs": [],
   "source": []
  },
  {
   "cell_type": "markdown",
   "metadata": {
    "id": "_OyI-WBZkcW0"
   },
   "source": [
    "Column names? Data types?"
   ]
  },
  {
   "cell_type": "code",
   "execution_count": null,
   "metadata": {
    "executionInfo": {
     "elapsed": 15,
     "status": "ok",
     "timestamp": 1633629949343,
     "user": {
      "displayName": "Benjamin Riela",
      "photoUrl": "https://lh3.googleusercontent.com/a-/AOh14GgH6tuxHx-HDI-e1GuO-RVlFibyHFp98Hz8Y0-JzA=s64",
      "userId": "15091259363240364085"
     },
     "user_tz": 240
    },
    "id": "6cEqX6sClJNv"
   },
   "outputs": [],
   "source": []
  },
  {
   "cell_type": "markdown",
   "metadata": {
    "id": "8Tewbyfylabd"
   },
   "source": [
    "Look up pandas dataframe describe: what does this do?\n",
    "Call this on our dataframe\n",
    "Is there anything misleading about this?"
   ]
  },
  {
   "cell_type": "code",
   "execution_count": null,
   "metadata": {
    "colab": {
     "base_uri": "https://localhost:8080/",
     "height": 204
    },
    "executionInfo": {
     "elapsed": 14,
     "status": "ok",
     "timestamp": 1633629949343,
     "user": {
      "displayName": "Benjamin Riela",
      "photoUrl": "https://lh3.googleusercontent.com/a-/AOh14GgH6tuxHx-HDI-e1GuO-RVlFibyHFp98Hz8Y0-JzA=s64",
      "userId": "15091259363240364085"
     },
     "user_tz": 240
    },
    "id": "uIjO40TvlMy9",
    "outputId": "b3bca9b6-7d99-47e4-cb5d-7a09fea6c5b4"
   },
   "outputs": [],
   "source": [
    "df.head()"
   ]
  },
  {
   "cell_type": "code",
   "execution_count": null,
   "metadata": {
    "executionInfo": {
     "elapsed": 15,
     "status": "ok",
     "timestamp": 1633629949344,
     "user": {
      "displayName": "Benjamin Riela",
      "photoUrl": "https://lh3.googleusercontent.com/a-/AOh14GgH6tuxHx-HDI-e1GuO-RVlFibyHFp98Hz8Y0-JzA=s64",
      "userId": "15091259363240364085"
     },
     "user_tz": 240
    },
    "id": "7JEcyHpSksjB"
   },
   "outputs": [],
   "source": []
  },
  {
   "cell_type": "code",
   "execution_count": null,
   "metadata": {
    "executionInfo": {
     "elapsed": 55,
     "status": "ok",
     "timestamp": 1633629949789,
     "user": {
      "displayName": "Benjamin Riela",
      "photoUrl": "https://lh3.googleusercontent.com/a-/AOh14GgH6tuxHx-HDI-e1GuO-RVlFibyHFp98Hz8Y0-JzA=s64",
      "userId": "15091259363240364085"
     },
     "user_tz": 240
    },
    "id": "uDx8Icd4k21O"
   },
   "outputs": [],
   "source": []
  },
  {
   "cell_type": "markdown",
   "metadata": {
    "id": "U3T7ar62ko-A"
   },
   "source": [
    "Isolate the player and position columns in a display function:"
   ]
  },
  {
   "cell_type": "code",
   "execution_count": null,
   "metadata": {
    "executionInfo": {
     "elapsed": 54,
     "status": "ok",
     "timestamp": 1633629949791,
     "user": {
      "displayName": "Benjamin Riela",
      "photoUrl": "https://lh3.googleusercontent.com/a-/AOh14GgH6tuxHx-HDI-e1GuO-RVlFibyHFp98Hz8Y0-JzA=s64",
      "userId": "15091259363240364085"
     },
     "user_tz": 240
    },
    "id": "CbXP59GZnfLA"
   },
   "outputs": [],
   "source": []
  },
  {
   "cell_type": "markdown",
   "metadata": {
    "id": "EGTI-zxrngt0"
   },
   "source": [
    "What looks wrong with this? How should we fix it?"
   ]
  },
  {
   "cell_type": "code",
   "execution_count": null,
   "metadata": {
    "executionInfo": {
     "elapsed": 53,
     "status": "ok",
     "timestamp": 1633629949792,
     "user": {
      "displayName": "Benjamin Riela",
      "photoUrl": "https://lh3.googleusercontent.com/a-/AOh14GgH6tuxHx-HDI-e1GuO-RVlFibyHFp98Hz8Y0-JzA=s64",
      "userId": "15091259363240364085"
     },
     "user_tz": 240
    },
    "id": "KQUMi8eznmuP"
   },
   "outputs": [],
   "source": []
  },
  {
   "cell_type": "markdown",
   "metadata": {
    "id": "pj-1Qc3MyEtw"
   },
   "source": [
    "Review of dataframe scopes:"
   ]
  },
  {
   "cell_type": "markdown",
   "metadata": {
    "id": "iWlCOo0nyaYt"
   },
   "source": [
    "Find me a dataframe called simple_df with player, position, team, games, yards, touchdowns, interceptions, sacks"
   ]
  },
  {
   "cell_type": "code",
   "execution_count": null,
   "metadata": {
    "executionInfo": {
     "elapsed": 55,
     "status": "ok",
     "timestamp": 1633629949795,
     "user": {
      "displayName": "Benjamin Riela",
      "photoUrl": "https://lh3.googleusercontent.com/a-/AOh14GgH6tuxHx-HDI-e1GuO-RVlFibyHFp98Hz8Y0-JzA=s64",
      "userId": "15091259363240364085"
     },
     "user_tz": 240
    },
    "id": "lMybGlvlzERd"
   },
   "outputs": [],
   "source": []
  },
  {
   "cell_type": "markdown",
   "metadata": {
    "id": "tfybSuUJzE9l"
   },
   "source": [
    "Can we do better with some of these column names? Look up how to rename dataframe columns"
   ]
  },
  {
   "cell_type": "code",
   "execution_count": null,
   "metadata": {
    "executionInfo": {
     "elapsed": 54,
     "status": "ok",
     "timestamp": 1633629949797,
     "user": {
      "displayName": "Benjamin Riela",
      "photoUrl": "https://lh3.googleusercontent.com/a-/AOh14GgH6tuxHx-HDI-e1GuO-RVlFibyHFp98Hz8Y0-JzA=s64",
      "userId": "15091259363240364085"
     },
     "user_tz": 240
    },
    "id": "dAl6jHBWzRxE"
   },
   "outputs": [],
   "source": []
  },
  {
   "cell_type": "code",
   "execution_count": null,
   "metadata": {
    "executionInfo": {
     "elapsed": 56,
     "status": "ok",
     "timestamp": 1633629949799,
     "user": {
      "displayName": "Benjamin Riela",
      "photoUrl": "https://lh3.googleusercontent.com/a-/AOh14GgH6tuxHx-HDI-e1GuO-RVlFibyHFp98Hz8Y0-JzA=s64",
      "userId": "15091259363240364085"
     },
     "user_tz": 240
    },
    "id": "sTLK_yLqyi9D"
   },
   "outputs": [],
   "source": []
  },
  {
   "cell_type": "markdown",
   "metadata": {
    "id": "7JxGhkex0M7X"
   },
   "source": [
    "What are the columnn names in df?"
   ]
  },
  {
   "cell_type": "code",
   "execution_count": null,
   "metadata": {
    "executionInfo": {
     "elapsed": 57,
     "status": "ok",
     "timestamp": 1633629949801,
     "user": {
      "displayName": "Benjamin Riela",
      "photoUrl": "https://lh3.googleusercontent.com/a-/AOh14GgH6tuxHx-HDI-e1GuO-RVlFibyHFp98Hz8Y0-JzA=s64",
      "userId": "15091259363240364085"
     },
     "user_tz": 240
    },
    "id": "ZqcaLcrXySzP"
   },
   "outputs": [],
   "source": []
  },
  {
   "cell_type": "markdown",
   "metadata": {
    "id": "fWjAZjpr0tmb"
   },
   "source": [
    "What columns do we think are optional? Not essential to the dataset that we can drop? Look up how to drop column from dataset"
   ]
  },
  {
   "cell_type": "code",
   "execution_count": null,
   "metadata": {
    "executionInfo": {
     "elapsed": 58,
     "status": "ok",
     "timestamp": 1633629949803,
     "user": {
      "displayName": "Benjamin Riela",
      "photoUrl": "https://lh3.googleusercontent.com/a-/AOh14GgH6tuxHx-HDI-e1GuO-RVlFibyHFp98Hz8Y0-JzA=s64",
      "userId": "15091259363240364085"
     },
     "user_tz": 240
    },
    "id": "88jVwLvzNxh0",
    "scrolled": true
   },
   "outputs": [],
   "source": []
  },
  {
   "cell_type": "markdown",
   "metadata": {
    "id": "l32M41_01BXU"
   },
   "source": [
    "How do we add a new column to the dataset?"
   ]
  },
  {
   "cell_type": "code",
   "execution_count": null,
   "metadata": {
    "executionInfo": {
     "elapsed": 58,
     "status": "ok",
     "timestamp": 1633629949804,
     "user": {
      "displayName": "Benjamin Riela",
      "photoUrl": "https://lh3.googleusercontent.com/a-/AOh14GgH6tuxHx-HDI-e1GuO-RVlFibyHFp98Hz8Y0-JzA=s64",
      "userId": "15091259363240364085"
     },
     "user_tz": 240
    },
    "id": "NnXqMGzGNxh0",
    "scrolled": true
   },
   "outputs": [],
   "source": []
  },
  {
   "cell_type": "markdown",
   "metadata": {
    "id": "FdJTYyET1Fi9"
   },
   "source": [
    "What column could we add to this dataset to learn more about our passers?"
   ]
  },
  {
   "cell_type": "code",
   "execution_count": null,
   "metadata": {
    "executionInfo": {
     "elapsed": 62,
     "status": "ok",
     "timestamp": 1633629949809,
     "user": {
      "displayName": "Benjamin Riela",
      "photoUrl": "https://lh3.googleusercontent.com/a-/AOh14GgH6tuxHx-HDI-e1GuO-RVlFibyHFp98Hz8Y0-JzA=s64",
      "userId": "15091259363240364085"
     },
     "user_tz": 240
    },
    "id": "yW5ebOwjNxh0",
    "scrolled": true
   },
   "outputs": [],
   "source": []
  },
  {
   "cell_type": "markdown",
   "metadata": {
    "id": "wcI_U-DJ51Ud"
   },
   "source": [
    "What looks weird about this result? How can we fix it?"
   ]
  },
  {
   "cell_type": "code",
   "execution_count": null,
   "metadata": {
    "executionInfo": {
     "elapsed": 64,
     "status": "ok",
     "timestamp": 1633629949812,
     "user": {
      "displayName": "Benjamin Riela",
      "photoUrl": "https://lh3.googleusercontent.com/a-/AOh14GgH6tuxHx-HDI-e1GuO-RVlFibyHFp98Hz8Y0-JzA=s64",
      "userId": "15091259363240364085"
     },
     "user_tz": 240
    },
    "id": "33YnxsqF55RX"
   },
   "outputs": [],
   "source": []
  },
  {
   "cell_type": "markdown",
   "metadata": {
    "id": "TGP2Wynl1l2Y"
   },
   "source": [
    "Find me the third through tenth rows of the dataframe (hint: iloc)"
   ]
  },
  {
   "cell_type": "code",
   "execution_count": null,
   "metadata": {
    "executionInfo": {
     "elapsed": 65,
     "status": "ok",
     "timestamp": 1633629949814,
     "user": {
      "displayName": "Benjamin Riela",
      "photoUrl": "https://lh3.googleusercontent.com/a-/AOh14GgH6tuxHx-HDI-e1GuO-RVlFibyHFp98Hz8Y0-JzA=s64",
      "userId": "15091259363240364085"
     },
     "user_tz": 240
    },
    "id": "cU5KU7u_Nxh0"
   },
   "outputs": [],
   "source": []
  },
  {
   "cell_type": "markdown",
   "metadata": {
    "id": "d8E7R2uO2Dp_"
   },
   "source": [
    "What if we want to just look at the 7th row?"
   ]
  },
  {
   "cell_type": "code",
   "execution_count": null,
   "metadata": {
    "executionInfo": {
     "elapsed": 67,
     "status": "ok",
     "timestamp": 1633629949817,
     "user": {
      "displayName": "Benjamin Riela",
      "photoUrl": "https://lh3.googleusercontent.com/a-/AOh14GgH6tuxHx-HDI-e1GuO-RVlFibyHFp98Hz8Y0-JzA=s64",
      "userId": "15091259363240364085"
     },
     "user_tz": 240
    },
    "id": "WrylFfO1Nxh1",
    "scrolled": true
   },
   "outputs": [],
   "source": []
  },
  {
   "cell_type": "markdown",
   "metadata": {
    "id": "U2ZRoMsR21FX"
   },
   "source": [
    "Let's see what we can do with indexes - set the index to 'Player'"
   ]
  },
  {
   "cell_type": "code",
   "execution_count": null,
   "metadata": {
    "executionInfo": {
     "elapsed": 65,
     "status": "ok",
     "timestamp": 1633629949819,
     "user": {
      "displayName": "Benjamin Riela",
      "photoUrl": "https://lh3.googleusercontent.com/a-/AOh14GgH6tuxHx-HDI-e1GuO-RVlFibyHFp98Hz8Y0-JzA=s64",
      "userId": "15091259363240364085"
     },
     "user_tz": 240
    },
    "id": "y2FUw0WWNxh1"
   },
   "outputs": [],
   "source": []
  },
  {
   "cell_type": "markdown",
   "metadata": {
    "id": "4w90hXU23HKX"
   },
   "source": [
    "df.loc vs df.iloc explanation:"
   ]
  },
  {
   "cell_type": "markdown",
   "metadata": {
    "id": "Fy1mP0EA3EGL"
   },
   "source": [
    "Locate Tom Brady's season (df.loc)"
   ]
  },
  {
   "cell_type": "code",
   "execution_count": null,
   "metadata": {
    "executionInfo": {
     "elapsed": 65,
     "status": "ok",
     "timestamp": 1633629949820,
     "user": {
      "displayName": "Benjamin Riela",
      "photoUrl": "https://lh3.googleusercontent.com/a-/AOh14GgH6tuxHx-HDI-e1GuO-RVlFibyHFp98Hz8Y0-JzA=s64",
      "userId": "15091259363240364085"
     },
     "user_tz": 240
    },
    "id": "xvL0CKCuNxh1",
    "scrolled": true
   },
   "outputs": [],
   "source": []
  },
  {
   "cell_type": "markdown",
   "metadata": {
    "id": "BUgCoNFJ7kTx"
   },
   "source": [
    "Reset the index back to integers:"
   ]
  },
  {
   "cell_type": "code",
   "execution_count": null,
   "metadata": {
    "executionInfo": {
     "elapsed": 65,
     "status": "ok",
     "timestamp": 1633629949822,
     "user": {
      "displayName": "Benjamin Riela",
      "photoUrl": "https://lh3.googleusercontent.com/a-/AOh14GgH6tuxHx-HDI-e1GuO-RVlFibyHFp98Hz8Y0-JzA=s64",
      "userId": "15091259363240364085"
     },
     "user_tz": 240
    },
    "id": "i7AwYI8T7psp"
   },
   "outputs": [],
   "source": []
  },
  {
   "cell_type": "markdown",
   "metadata": {
    "id": "5t2veDFW30u0"
   },
   "source": [
    "What division quarterbacks do we want to look at?"
   ]
  },
  {
   "cell_type": "markdown",
   "metadata": {
    "id": "ig9wnYoE36FS"
   },
   "source": [
    "Filter dataframe so we are only in this division"
   ]
  },
  {
   "cell_type": "code",
   "execution_count": null,
   "metadata": {
    "executionInfo": {
     "elapsed": 65,
     "status": "ok",
     "timestamp": 1633629949823,
     "user": {
      "displayName": "Benjamin Riela",
      "photoUrl": "https://lh3.googleusercontent.com/a-/AOh14GgH6tuxHx-HDI-e1GuO-RVlFibyHFp98Hz8Y0-JzA=s64",
      "userId": "15091259363240364085"
     },
     "user_tz": 240
    },
    "id": "laWXxP2n4MX8"
   },
   "outputs": [],
   "source": []
  },
  {
   "cell_type": "markdown",
   "metadata": {
    "id": "ERfNcxYq7Gpy"
   },
   "source": [
    "Investigative questions"
   ]
  },
  {
   "cell_type": "markdown",
   "metadata": {
    "id": "QIflLZ543sQt"
   },
   "source": [
    "Who had the highest ___ of all QBs who played more than 12 games? Worst?"
   ]
  },
  {
   "cell_type": "code",
   "execution_count": null,
   "metadata": {
    "executionInfo": {
     "elapsed": 67,
     "status": "ok",
     "timestamp": 1633629949825,
     "user": {
      "displayName": "Benjamin Riela",
      "photoUrl": "https://lh3.googleusercontent.com/a-/AOh14GgH6tuxHx-HDI-e1GuO-RVlFibyHFp98Hz8Y0-JzA=s64",
      "userId": "15091259363240364085"
     },
     "user_tz": 240
    },
    "id": "xo6jQGTpNxh1",
    "scrolled": true
   },
   "outputs": [],
   "source": []
  },
  {
   "cell_type": "markdown",
   "metadata": {
    "id": "MXTSrd7-7MZU"
   },
   "source": [
    "Who is the best non-qb passer in this dataset? Feel free to take this any direction you want."
   ]
  },
  {
   "cell_type": "code",
   "execution_count": null,
   "metadata": {
    "executionInfo": {
     "elapsed": 66,
     "status": "ok",
     "timestamp": 1633629949826,
     "user": {
      "displayName": "Benjamin Riela",
      "photoUrl": "https://lh3.googleusercontent.com/a-/AOh14GgH6tuxHx-HDI-e1GuO-RVlFibyHFp98Hz8Y0-JzA=s64",
      "userId": "15091259363240364085"
     },
     "user_tz": 240
    },
    "id": "Wt-IVAZr7YvG"
   },
   "outputs": [],
   "source": []
  }
 ],
 "metadata": {
  "colab": {
   "name": "Module_3.ipynb",
   "provenance": []
  },
  "kernelspec": {
   "display_name": "Python 3",
   "language": "python",
   "name": "python3"
  },
  "language_info": {
   "codemirror_mode": {
    "name": "ipython",
    "version": 3
   },
   "file_extension": ".py",
   "mimetype": "text/x-python",
   "name": "python",
   "nbconvert_exporter": "python",
   "pygments_lexer": "ipython3",
   "version": "3.8.8"
  }
 },
 "nbformat": 4,
 "nbformat_minor": 4
}
