{
  "nbformat": 4,
  "nbformat_minor": 0,
  "metadata": {
    "colab": {
      "name": "Module_4ipynb",
      "provenance": []
    },
    "kernelspec": {
      "name": "python3",
      "display_name": "Python 3"
    },
    "language_info": {
      "name": "python"
    }
  },
  "cells": [
    {
      "cell_type": "code",
      "metadata": {
        "id": "zVNNeVEYhPJp"
      },
      "source": [
        "import numpy as np\n",
        "import pandas as pd"
      ],
      "execution_count": 1,
      "outputs": []
    },
    {
      "cell_type": "markdown",
      "metadata": {
        "id": "noUp3eeUnZ4x"
      },
      "source": [
        "Basic Loop Syntax"
      ]
    },
    {
      "cell_type": "code",
      "metadata": {
        "colab": {
          "base_uri": "https://localhost:8080/"
        },
        "id": "Gt0t1qhCkoP3",
        "outputId": "c97dfbdd-0cdc-4126-cec5-d1e327293295"
      },
      "source": [
        "for i in range(2, 6): #range(inclusive start, exclusive stop, stepsize)\n",
        "  print(i)"
      ],
      "execution_count": 2,
      "outputs": [
        {
          "output_type": "stream",
          "name": "stdout",
          "text": [
            "2\n",
            "3\n",
            "4\n",
            "5\n"
          ]
        }
      ]
    },
    {
      "cell_type": "markdown",
      "metadata": {
        "id": "V0Gr7gB_rItK"
      },
      "source": [
        "What do you think this will print?"
      ]
    },
    {
      "cell_type": "code",
      "metadata": {
        "colab": {
          "base_uri": "https://localhost:8080/"
        },
        "id": "gq7xFaa9lY2P",
        "outputId": "549d00a1-c47b-41aa-a637-9a33f7f57cc6"
      },
      "source": [
        "for i in range(1, 11, 2): #np.linspace alternative --> np.linspace(start, stop, num_steps)\n",
        "  print(i)"
      ],
      "execution_count": 3,
      "outputs": [
        {
          "output_type": "stream",
          "name": "stdout",
          "text": [
            "1\n",
            "3\n",
            "5\n",
            "7\n",
            "9\n"
          ]
        }
      ]
    },
    {
      "cell_type": "code",
      "metadata": {
        "colab": {
          "base_uri": "https://localhost:8080/"
        },
        "id": "h6r2Xm-VlH7u",
        "outputId": "2139fbed-f3ad-4ee0-87e4-3796487cd332"
      },
      "source": [
        "z = ['a', 'b', 'c']\n",
        "for i in z: #iterate thru vector\n",
        "  print(i)"
      ],
      "execution_count": 4,
      "outputs": [
        {
          "output_type": "stream",
          "name": "stdout",
          "text": [
            "a\n",
            "b\n",
            "c\n"
          ]
        }
      ]
    },
    {
      "cell_type": "code",
      "metadata": {
        "colab": {
          "base_uri": "https://localhost:8080/",
          "height": 34
        },
        "id": "YHEUYeZVjjbw",
        "outputId": "1b83a9bf-5621-4bae-eea6-093a779c66ea"
      },
      "source": [
        "x = [2, 3, 4, 5, 6]\n",
        "for i in range(len(x)): #only 1 input --> 0 = implied inclusive start point\n",
        "  x[i] += 1\n",
        "display(x)"
      ],
      "execution_count": 5,
      "outputs": [
        {
          "output_type": "display_data",
          "data": {
            "text/plain": [
              "[3, 4, 5, 6, 7]"
            ]
          },
          "metadata": {}
        }
      ]
    },
    {
      "cell_type": "code",
      "metadata": {
        "colab": {
          "base_uri": "https://localhost:8080/",
          "height": 34
        },
        "id": "jnI9YshAkGhq",
        "outputId": "bb48ba7b-dd90-4cb5-c301-5177bd5f78d1"
      },
      "source": [
        "x = ['dog', 'cat', 'moose', 'duck', 'owl']\n",
        "y = []\n",
        "for i in x:\n",
        "  if len(i) == 3:\n",
        "    y.append(i)\n",
        "\n",
        "display(y)"
      ],
      "execution_count": 6,
      "outputs": [
        {
          "output_type": "display_data",
          "data": {
            "text/plain": [
              "['dog', 'cat', 'owl']"
            ]
          },
          "metadata": {}
        }
      ]
    },
    {
      "cell_type": "markdown",
      "metadata": {
        "id": "yk0lXc64rfdv"
      },
      "source": [
        "Functions Intro"
      ]
    },
    {
      "cell_type": "markdown",
      "metadata": {
        "id": "NYSaOf7nZeB7"
      },
      "source": [
        "Always need to remember to return something from the function, otherwise nothing will happen\n",
        "\n",
        "https://geo-python.github.io/site/develop/notebooks/L4/functions.html"
      ]
    },
    {
      "cell_type": "code",
      "metadata": {
        "colab": {
          "base_uri": "https://localhost:8080/",
          "height": 34
        },
        "id": "K-ClYfhZrVZx",
        "outputId": "386f922f-3c7f-4ad1-cd41-a24c9a729784"
      },
      "source": [
        "x = 3\n",
        "x += 2\n",
        "display(x)"
      ],
      "execution_count": 7,
      "outputs": [
        {
          "output_type": "display_data",
          "data": {
            "text/plain": [
              "5"
            ]
          },
          "metadata": {}
        }
      ]
    },
    {
      "cell_type": "markdown",
      "metadata": {
        "id": "qx0j9oonriuP"
      },
      "source": [
        "What about for any x?"
      ]
    },
    {
      "cell_type": "code",
      "metadata": {
        "colab": {
          "base_uri": "https://localhost:8080/"
        },
        "id": "jYtw5J_mjpYA",
        "outputId": "8933e786-a162-492a-cba8-bfe953e05b12"
      },
      "source": [
        "def add_two(x):\n",
        "  return x+2\n",
        "\n",
        "add_two(6)"
      ],
      "execution_count": 8,
      "outputs": [
        {
          "output_type": "execute_result",
          "data": {
            "text/plain": [
              "8"
            ]
          },
          "metadata": {},
          "execution_count": 8
        }
      ]
    },
    {
      "cell_type": "markdown",
      "metadata": {
        "id": "PDc2781ZrlyT"
      },
      "source": [
        "What about for any value?\n",
        "add and subtract?"
      ]
    },
    {
      "cell_type": "code",
      "metadata": {
        "id": "ljIIad1xrpHx"
      },
      "source": [
        "def add_and_subtract_n(x, n):\n",
        "  plus = x+n\n",
        "  minus = x-n\n",
        "  return plus, minus"
      ],
      "execution_count": 9,
      "outputs": []
    },
    {
      "cell_type": "code",
      "metadata": {
        "colab": {
          "base_uri": "https://localhost:8080/",
          "height": 51
        },
        "id": "q0oDgQhfr5te",
        "outputId": "b3e6f961-5a9e-47e0-e210-30fbc4d677ce"
      },
      "source": [
        "plus, minus = add_and_subtract_n(5, 2)\n",
        "display(plus)\n",
        "display(minus)"
      ],
      "execution_count": 10,
      "outputs": [
        {
          "output_type": "display_data",
          "data": {
            "text/plain": [
              "7"
            ]
          },
          "metadata": {}
        },
        {
          "output_type": "display_data",
          "data": {
            "text/plain": [
              "3"
            ]
          },
          "metadata": {}
        }
      ]
    },
    {
      "cell_type": "markdown",
      "metadata": {
        "id": "uTMkQnInsd_K"
      },
      "source": [
        "How would we apply add_and_subtract_n with n = 2 to our vector x below?\n"
      ]
    },
    {
      "cell_type": "code",
      "metadata": {
        "colab": {
          "base_uri": "https://localhost:8080/",
          "height": 51
        },
        "id": "_uJqomndsDTD",
        "outputId": "02e4c01a-3677-435b-8bf7-4b1fef65af71"
      },
      "source": [
        "x = [3, 4, 5, 6, 7, 8]\n",
        "plusvec = []\n",
        "minusvec = []\n",
        "\n",
        "#live code the for loop\n",
        "for i in x:\n",
        "  plus, minus = add_and_subtract_n(i, 2)\n",
        "  plusvec.append(plus)\n",
        "  minusvec.append(minus)\n",
        "\n",
        "display(plusvec)\n",
        "display(minusvec)"
      ],
      "execution_count": 11,
      "outputs": [
        {
          "output_type": "display_data",
          "data": {
            "text/plain": [
              "[5, 6, 7, 8, 9, 10]"
            ]
          },
          "metadata": {}
        },
        {
          "output_type": "display_data",
          "data": {
            "text/plain": [
              "[1, 2, 3, 4, 5, 6]"
            ]
          },
          "metadata": {}
        }
      ]
    },
    {
      "cell_type": "markdown",
      "metadata": {
        "id": "OFpbAUm7s0oc"
      },
      "source": [
        "Expand character example from before"
      ]
    },
    {
      "cell_type": "code",
      "metadata": {
        "id": "uddGrgdukXjp"
      },
      "source": [
        "def n_characters(x, n):\n",
        "  y = []\n",
        "  for i in x:\n",
        "    if len(i) == n:\n",
        "      y.append(i)\n",
        "  return y"
      ],
      "execution_count": 12,
      "outputs": []
    },
    {
      "cell_type": "code",
      "metadata": {
        "colab": {
          "base_uri": "https://localhost:8080/"
        },
        "id": "8ufLiky2knAo",
        "outputId": "bdf2c719-2684-4397-d8aa-a89f329eb596"
      },
      "source": [
        "x = ['dog', 'cat', 'moose', 'duck', 'owl']\n",
        "print(n_characters(x, 2))\n",
        "print(n_characters(x, 3))\n",
        "print(n_characters(x, 4))\n",
        "print(n_characters(x, 5))\n",
        "print(n_characters(x, 6))"
      ],
      "execution_count": 13,
      "outputs": [
        {
          "output_type": "stream",
          "name": "stdout",
          "text": [
            "[]\n",
            "['dog', 'cat', 'owl']\n",
            "['duck']\n",
            "['moose']\n",
            "[]\n"
          ]
        }
      ]
    },
    {
      "cell_type": "markdown",
      "metadata": {
        "id": "jIo5sOH-nQW4"
      },
      "source": [
        "How can we make this better?"
      ]
    },
    {
      "cell_type": "code",
      "metadata": {
        "colab": {
          "base_uri": "https://localhost:8080/"
        },
        "id": "tHu7R_BDmmeo",
        "outputId": "4c419485-8b1a-4b08-f655-db7f8698a218"
      },
      "source": [
        "for i in range(2, 7): # easier! #livecode this\n",
        "  print(n_characters(x, i))"
      ],
      "execution_count": 14,
      "outputs": [
        {
          "output_type": "stream",
          "name": "stdout",
          "text": [
            "[]\n",
            "['dog', 'cat', 'owl']\n",
            "['duck']\n",
            "['moose']\n",
            "[]\n"
          ]
        }
      ]
    },
    {
      "cell_type": "markdown",
      "metadata": {
        "id": "EROXHazss-m7"
      },
      "source": [
        "loop and function examples from csv file"
      ]
    },
    {
      "cell_type": "code",
      "metadata": {
        "id": "3ZkBMv6ymqui"
      },
      "source": [
        "passing_df = pd.read_csv(\"https://raw.githubusercontent.com/rielaben/MSAS_Modules_2021_2022/main/Week%202/nfl_passing_2020.csv\")"
      ],
      "execution_count": 15,
      "outputs": []
    },
    {
      "cell_type": "code",
      "metadata": {
        "colab": {
          "base_uri": "https://localhost:8080/",
          "height": 419
        },
        "id": "VXV7_kBEYkf1",
        "outputId": "fe7c5f65-430f-484c-eb43-0c7ef80ada65"
      },
      "source": [
        "passing_df"
      ],
      "execution_count": 16,
      "outputs": [
        {
          "output_type": "execute_result",
          "data": {
            "text/html": [
              "<div>\n",
              "<style scoped>\n",
              "    .dataframe tbody tr th:only-of-type {\n",
              "        vertical-align: middle;\n",
              "    }\n",
              "\n",
              "    .dataframe tbody tr th {\n",
              "        vertical-align: top;\n",
              "    }\n",
              "\n",
              "    .dataframe thead th {\n",
              "        text-align: right;\n",
              "    }\n",
              "</style>\n",
              "<table border=\"1\" class=\"dataframe\">\n",
              "  <thead>\n",
              "    <tr style=\"text-align: right;\">\n",
              "      <th></th>\n",
              "      <th>Rk</th>\n",
              "      <th>Player</th>\n",
              "      <th>Tm</th>\n",
              "      <th>Age</th>\n",
              "      <th>Pos</th>\n",
              "      <th>G</th>\n",
              "      <th>GS</th>\n",
              "      <th>Cmp</th>\n",
              "      <th>Att</th>\n",
              "      <th>Cmp%</th>\n",
              "      <th>Yds</th>\n",
              "      <th>TD</th>\n",
              "      <th>Int</th>\n",
              "      <th>1D</th>\n",
              "      <th>Y/A</th>\n",
              "      <th>Y/C</th>\n",
              "      <th>Y/G</th>\n",
              "      <th>Rate</th>\n",
              "      <th>QBR</th>\n",
              "      <th>Sk</th>\n",
              "    </tr>\n",
              "  </thead>\n",
              "  <tbody>\n",
              "    <tr>\n",
              "      <th>0</th>\n",
              "      <td>1</td>\n",
              "      <td>Deshaun Watson*</td>\n",
              "      <td>HOU</td>\n",
              "      <td>25</td>\n",
              "      <td>QB</td>\n",
              "      <td>16</td>\n",
              "      <td>16</td>\n",
              "      <td>382</td>\n",
              "      <td>544</td>\n",
              "      <td>70.2</td>\n",
              "      <td>4823</td>\n",
              "      <td>33</td>\n",
              "      <td>7</td>\n",
              "      <td>221</td>\n",
              "      <td>8.9</td>\n",
              "      <td>12.6</td>\n",
              "      <td>301.4</td>\n",
              "      <td>112.4</td>\n",
              "      <td>70.5</td>\n",
              "      <td>49</td>\n",
              "    </tr>\n",
              "    <tr>\n",
              "      <th>1</th>\n",
              "      <td>2</td>\n",
              "      <td>Patrick Mahomes*</td>\n",
              "      <td>KAN</td>\n",
              "      <td>25</td>\n",
              "      <td>QB</td>\n",
              "      <td>15</td>\n",
              "      <td>15</td>\n",
              "      <td>390</td>\n",
              "      <td>588</td>\n",
              "      <td>66.3</td>\n",
              "      <td>4740</td>\n",
              "      <td>38</td>\n",
              "      <td>6</td>\n",
              "      <td>238</td>\n",
              "      <td>8.1</td>\n",
              "      <td>12.2</td>\n",
              "      <td>316.0</td>\n",
              "      <td>108.2</td>\n",
              "      <td>82.9</td>\n",
              "      <td>22</td>\n",
              "    </tr>\n",
              "    <tr>\n",
              "      <th>2</th>\n",
              "      <td>3</td>\n",
              "      <td>Tom Brady</td>\n",
              "      <td>TAM</td>\n",
              "      <td>43</td>\n",
              "      <td>QB</td>\n",
              "      <td>16</td>\n",
              "      <td>16</td>\n",
              "      <td>401</td>\n",
              "      <td>610</td>\n",
              "      <td>65.7</td>\n",
              "      <td>4633</td>\n",
              "      <td>40</td>\n",
              "      <td>12</td>\n",
              "      <td>233</td>\n",
              "      <td>7.6</td>\n",
              "      <td>11.6</td>\n",
              "      <td>289.6</td>\n",
              "      <td>102.2</td>\n",
              "      <td>72.5</td>\n",
              "      <td>21</td>\n",
              "    </tr>\n",
              "    <tr>\n",
              "      <th>3</th>\n",
              "      <td>4</td>\n",
              "      <td>Matt Ryan</td>\n",
              "      <td>ATL</td>\n",
              "      <td>35</td>\n",
              "      <td>QB</td>\n",
              "      <td>16</td>\n",
              "      <td>16</td>\n",
              "      <td>407</td>\n",
              "      <td>626</td>\n",
              "      <td>65.0</td>\n",
              "      <td>4581</td>\n",
              "      <td>26</td>\n",
              "      <td>11</td>\n",
              "      <td>242</td>\n",
              "      <td>7.3</td>\n",
              "      <td>11.3</td>\n",
              "      <td>286.3</td>\n",
              "      <td>93.3</td>\n",
              "      <td>67.0</td>\n",
              "      <td>41</td>\n",
              "    </tr>\n",
              "    <tr>\n",
              "      <th>4</th>\n",
              "      <td>5</td>\n",
              "      <td>Josh Allen*</td>\n",
              "      <td>BUF</td>\n",
              "      <td>24</td>\n",
              "      <td>QB</td>\n",
              "      <td>16</td>\n",
              "      <td>16</td>\n",
              "      <td>396</td>\n",
              "      <td>572</td>\n",
              "      <td>69.2</td>\n",
              "      <td>4544</td>\n",
              "      <td>37</td>\n",
              "      <td>10</td>\n",
              "      <td>228</td>\n",
              "      <td>7.9</td>\n",
              "      <td>11.5</td>\n",
              "      <td>284.0</td>\n",
              "      <td>107.2</td>\n",
              "      <td>81.7</td>\n",
              "      <td>26</td>\n",
              "    </tr>\n",
              "    <tr>\n",
              "      <th>...</th>\n",
              "      <td>...</td>\n",
              "      <td>...</td>\n",
              "      <td>...</td>\n",
              "      <td>...</td>\n",
              "      <td>...</td>\n",
              "      <td>...</td>\n",
              "      <td>...</td>\n",
              "      <td>...</td>\n",
              "      <td>...</td>\n",
              "      <td>...</td>\n",
              "      <td>...</td>\n",
              "      <td>...</td>\n",
              "      <td>...</td>\n",
              "      <td>...</td>\n",
              "      <td>...</td>\n",
              "      <td>...</td>\n",
              "      <td>...</td>\n",
              "      <td>...</td>\n",
              "      <td>...</td>\n",
              "      <td>...</td>\n",
              "    </tr>\n",
              "    <tr>\n",
              "      <th>107</th>\n",
              "      <td>108</td>\n",
              "      <td>Brett Kern</td>\n",
              "      <td>TEN</td>\n",
              "      <td>34</td>\n",
              "      <td>NaN</td>\n",
              "      <td>13</td>\n",
              "      <td>0</td>\n",
              "      <td>0</td>\n",
              "      <td>1</td>\n",
              "      <td>0.0</td>\n",
              "      <td>0</td>\n",
              "      <td>0</td>\n",
              "      <td>0</td>\n",
              "      <td>0</td>\n",
              "      <td>0.0</td>\n",
              "      <td>NaN</td>\n",
              "      <td>0.0</td>\n",
              "      <td>39.6</td>\n",
              "      <td>0.0</td>\n",
              "      <td>0</td>\n",
              "    </tr>\n",
              "    <tr>\n",
              "      <th>108</th>\n",
              "      <td>109</td>\n",
              "      <td>D.J. Moore</td>\n",
              "      <td>CAR</td>\n",
              "      <td>23</td>\n",
              "      <td>WR</td>\n",
              "      <td>15</td>\n",
              "      <td>14</td>\n",
              "      <td>0</td>\n",
              "      <td>1</td>\n",
              "      <td>0.0</td>\n",
              "      <td>0</td>\n",
              "      <td>0</td>\n",
              "      <td>0</td>\n",
              "      <td>0</td>\n",
              "      <td>0.0</td>\n",
              "      <td>NaN</td>\n",
              "      <td>0.0</td>\n",
              "      <td>39.6</td>\n",
              "      <td>NaN</td>\n",
              "      <td>0</td>\n",
              "    </tr>\n",
              "    <tr>\n",
              "      <th>109</th>\n",
              "      <td>110</td>\n",
              "      <td>Zach Pascal</td>\n",
              "      <td>IND</td>\n",
              "      <td>26</td>\n",
              "      <td>WR</td>\n",
              "      <td>16</td>\n",
              "      <td>14</td>\n",
              "      <td>0</td>\n",
              "      <td>1</td>\n",
              "      <td>0.0</td>\n",
              "      <td>0</td>\n",
              "      <td>0</td>\n",
              "      <td>0</td>\n",
              "      <td>0</td>\n",
              "      <td>0.0</td>\n",
              "      <td>NaN</td>\n",
              "      <td>0.0</td>\n",
              "      <td>39.6</td>\n",
              "      <td>2.5</td>\n",
              "      <td>0</td>\n",
              "    </tr>\n",
              "    <tr>\n",
              "      <th>110</th>\n",
              "      <td>111</td>\n",
              "      <td>Sammy Watkins</td>\n",
              "      <td>KAN</td>\n",
              "      <td>27</td>\n",
              "      <td>WR</td>\n",
              "      <td>10</td>\n",
              "      <td>9</td>\n",
              "      <td>0</td>\n",
              "      <td>1</td>\n",
              "      <td>0.0</td>\n",
              "      <td>0</td>\n",
              "      <td>0</td>\n",
              "      <td>1</td>\n",
              "      <td>0</td>\n",
              "      <td>0.0</td>\n",
              "      <td>NaN</td>\n",
              "      <td>0.0</td>\n",
              "      <td>0.0</td>\n",
              "      <td>0.0</td>\n",
              "      <td>0</td>\n",
              "    </tr>\n",
              "    <tr>\n",
              "      <th>111</th>\n",
              "      <td>112</td>\n",
              "      <td>Isaiah Wright</td>\n",
              "      <td>WAS</td>\n",
              "      <td>23</td>\n",
              "      <td>wr</td>\n",
              "      <td>14</td>\n",
              "      <td>6</td>\n",
              "      <td>0</td>\n",
              "      <td>1</td>\n",
              "      <td>0.0</td>\n",
              "      <td>0</td>\n",
              "      <td>0</td>\n",
              "      <td>0</td>\n",
              "      <td>0</td>\n",
              "      <td>0.0</td>\n",
              "      <td>NaN</td>\n",
              "      <td>0.0</td>\n",
              "      <td>39.6</td>\n",
              "      <td>3.8</td>\n",
              "      <td>0</td>\n",
              "    </tr>\n",
              "  </tbody>\n",
              "</table>\n",
              "<p>112 rows × 20 columns</p>\n",
              "</div>"
            ],
            "text/plain": [
              "      Rk            Player   Tm  Age  Pos  ...   Y/C    Y/G   Rate   QBR  Sk\n",
              "0      1   Deshaun Watson*  HOU   25   QB  ...  12.6  301.4  112.4  70.5  49\n",
              "1      2  Patrick Mahomes*  KAN   25   QB  ...  12.2  316.0  108.2  82.9  22\n",
              "2      3         Tom Brady  TAM   43   QB  ...  11.6  289.6  102.2  72.5  21\n",
              "3      4         Matt Ryan  ATL   35   QB  ...  11.3  286.3   93.3  67.0  41\n",
              "4      5       Josh Allen*  BUF   24   QB  ...  11.5  284.0  107.2  81.7  26\n",
              "..   ...               ...  ...  ...  ...  ...   ...    ...    ...   ...  ..\n",
              "107  108        Brett Kern  TEN   34  NaN  ...   NaN    0.0   39.6   0.0   0\n",
              "108  109        D.J. Moore  CAR   23   WR  ...   NaN    0.0   39.6   NaN   0\n",
              "109  110       Zach Pascal  IND   26   WR  ...   NaN    0.0   39.6   2.5   0\n",
              "110  111     Sammy Watkins  KAN   27   WR  ...   NaN    0.0    0.0   0.0   0\n",
              "111  112     Isaiah Wright  WAS   23   wr  ...   NaN    0.0   39.6   3.8   0\n",
              "\n",
              "[112 rows x 20 columns]"
            ]
          },
          "metadata": {},
          "execution_count": 16
        }
      ]
    },
    {
      "cell_type": "markdown",
      "metadata": {
        "id": "_oZnw-kKZFqK"
      },
      "source": [
        "Code from Module 3...\n",
        "\n",
        "  df['Player'] = df['Player'].str.replace('*', '')\n",
        "\n",
        "  df['Player'] = df['Player'].str.replace('+', '')\n",
        "  \n",
        "  df['Pos'] = df['Pos'].str.upper()\n"
      ]
    },
    {
      "cell_type": "markdown",
      "metadata": {
        "id": "BMLUuHdMZ7rG"
      },
      "source": [
        "The following is better because it puts all of our cleaning steps in 1 function code area"
      ]
    },
    {
      "cell_type": "code",
      "metadata": {
        "id": "0K3NE6QlYpiD"
      },
      "source": [
        "def clean_data_rows(df):\n",
        "  df['Player'] = df['Player'].str.replace('*', '')\n",
        "  df['Player'] = df['Player'].str.replace('+', '')\n",
        "  df['Pos'] = df['Pos'].str.upper()\n",
        "\n",
        "  return df\n",
        "\n",
        "passing_df_cleaned = clean_data_rows(passing_df)"
      ],
      "execution_count": 17,
      "outputs": []
    },
    {
      "cell_type": "code",
      "metadata": {
        "colab": {
          "base_uri": "https://localhost:8080/",
          "height": 419
        },
        "id": "ACAOy60yZQk2",
        "outputId": "5f03383b-1470-4b49-ac0c-4de30a457ac7"
      },
      "source": [
        "passing_df_cleaned"
      ],
      "execution_count": 18,
      "outputs": [
        {
          "output_type": "execute_result",
          "data": {
            "text/html": [
              "<div>\n",
              "<style scoped>\n",
              "    .dataframe tbody tr th:only-of-type {\n",
              "        vertical-align: middle;\n",
              "    }\n",
              "\n",
              "    .dataframe tbody tr th {\n",
              "        vertical-align: top;\n",
              "    }\n",
              "\n",
              "    .dataframe thead th {\n",
              "        text-align: right;\n",
              "    }\n",
              "</style>\n",
              "<table border=\"1\" class=\"dataframe\">\n",
              "  <thead>\n",
              "    <tr style=\"text-align: right;\">\n",
              "      <th></th>\n",
              "      <th>Rk</th>\n",
              "      <th>Player</th>\n",
              "      <th>Tm</th>\n",
              "      <th>Age</th>\n",
              "      <th>Pos</th>\n",
              "      <th>G</th>\n",
              "      <th>GS</th>\n",
              "      <th>Cmp</th>\n",
              "      <th>Att</th>\n",
              "      <th>Cmp%</th>\n",
              "      <th>Yds</th>\n",
              "      <th>TD</th>\n",
              "      <th>Int</th>\n",
              "      <th>1D</th>\n",
              "      <th>Y/A</th>\n",
              "      <th>Y/C</th>\n",
              "      <th>Y/G</th>\n",
              "      <th>Rate</th>\n",
              "      <th>QBR</th>\n",
              "      <th>Sk</th>\n",
              "    </tr>\n",
              "  </thead>\n",
              "  <tbody>\n",
              "    <tr>\n",
              "      <th>0</th>\n",
              "      <td>1</td>\n",
              "      <td>Deshaun Watson</td>\n",
              "      <td>HOU</td>\n",
              "      <td>25</td>\n",
              "      <td>QB</td>\n",
              "      <td>16</td>\n",
              "      <td>16</td>\n",
              "      <td>382</td>\n",
              "      <td>544</td>\n",
              "      <td>70.2</td>\n",
              "      <td>4823</td>\n",
              "      <td>33</td>\n",
              "      <td>7</td>\n",
              "      <td>221</td>\n",
              "      <td>8.9</td>\n",
              "      <td>12.6</td>\n",
              "      <td>301.4</td>\n",
              "      <td>112.4</td>\n",
              "      <td>70.5</td>\n",
              "      <td>49</td>\n",
              "    </tr>\n",
              "    <tr>\n",
              "      <th>1</th>\n",
              "      <td>2</td>\n",
              "      <td>Patrick Mahomes</td>\n",
              "      <td>KAN</td>\n",
              "      <td>25</td>\n",
              "      <td>QB</td>\n",
              "      <td>15</td>\n",
              "      <td>15</td>\n",
              "      <td>390</td>\n",
              "      <td>588</td>\n",
              "      <td>66.3</td>\n",
              "      <td>4740</td>\n",
              "      <td>38</td>\n",
              "      <td>6</td>\n",
              "      <td>238</td>\n",
              "      <td>8.1</td>\n",
              "      <td>12.2</td>\n",
              "      <td>316.0</td>\n",
              "      <td>108.2</td>\n",
              "      <td>82.9</td>\n",
              "      <td>22</td>\n",
              "    </tr>\n",
              "    <tr>\n",
              "      <th>2</th>\n",
              "      <td>3</td>\n",
              "      <td>Tom Brady</td>\n",
              "      <td>TAM</td>\n",
              "      <td>43</td>\n",
              "      <td>QB</td>\n",
              "      <td>16</td>\n",
              "      <td>16</td>\n",
              "      <td>401</td>\n",
              "      <td>610</td>\n",
              "      <td>65.7</td>\n",
              "      <td>4633</td>\n",
              "      <td>40</td>\n",
              "      <td>12</td>\n",
              "      <td>233</td>\n",
              "      <td>7.6</td>\n",
              "      <td>11.6</td>\n",
              "      <td>289.6</td>\n",
              "      <td>102.2</td>\n",
              "      <td>72.5</td>\n",
              "      <td>21</td>\n",
              "    </tr>\n",
              "    <tr>\n",
              "      <th>3</th>\n",
              "      <td>4</td>\n",
              "      <td>Matt Ryan</td>\n",
              "      <td>ATL</td>\n",
              "      <td>35</td>\n",
              "      <td>QB</td>\n",
              "      <td>16</td>\n",
              "      <td>16</td>\n",
              "      <td>407</td>\n",
              "      <td>626</td>\n",
              "      <td>65.0</td>\n",
              "      <td>4581</td>\n",
              "      <td>26</td>\n",
              "      <td>11</td>\n",
              "      <td>242</td>\n",
              "      <td>7.3</td>\n",
              "      <td>11.3</td>\n",
              "      <td>286.3</td>\n",
              "      <td>93.3</td>\n",
              "      <td>67.0</td>\n",
              "      <td>41</td>\n",
              "    </tr>\n",
              "    <tr>\n",
              "      <th>4</th>\n",
              "      <td>5</td>\n",
              "      <td>Josh Allen</td>\n",
              "      <td>BUF</td>\n",
              "      <td>24</td>\n",
              "      <td>QB</td>\n",
              "      <td>16</td>\n",
              "      <td>16</td>\n",
              "      <td>396</td>\n",
              "      <td>572</td>\n",
              "      <td>69.2</td>\n",
              "      <td>4544</td>\n",
              "      <td>37</td>\n",
              "      <td>10</td>\n",
              "      <td>228</td>\n",
              "      <td>7.9</td>\n",
              "      <td>11.5</td>\n",
              "      <td>284.0</td>\n",
              "      <td>107.2</td>\n",
              "      <td>81.7</td>\n",
              "      <td>26</td>\n",
              "    </tr>\n",
              "    <tr>\n",
              "      <th>...</th>\n",
              "      <td>...</td>\n",
              "      <td>...</td>\n",
              "      <td>...</td>\n",
              "      <td>...</td>\n",
              "      <td>...</td>\n",
              "      <td>...</td>\n",
              "      <td>...</td>\n",
              "      <td>...</td>\n",
              "      <td>...</td>\n",
              "      <td>...</td>\n",
              "      <td>...</td>\n",
              "      <td>...</td>\n",
              "      <td>...</td>\n",
              "      <td>...</td>\n",
              "      <td>...</td>\n",
              "      <td>...</td>\n",
              "      <td>...</td>\n",
              "      <td>...</td>\n",
              "      <td>...</td>\n",
              "      <td>...</td>\n",
              "    </tr>\n",
              "    <tr>\n",
              "      <th>107</th>\n",
              "      <td>108</td>\n",
              "      <td>Brett Kern</td>\n",
              "      <td>TEN</td>\n",
              "      <td>34</td>\n",
              "      <td>NaN</td>\n",
              "      <td>13</td>\n",
              "      <td>0</td>\n",
              "      <td>0</td>\n",
              "      <td>1</td>\n",
              "      <td>0.0</td>\n",
              "      <td>0</td>\n",
              "      <td>0</td>\n",
              "      <td>0</td>\n",
              "      <td>0</td>\n",
              "      <td>0.0</td>\n",
              "      <td>NaN</td>\n",
              "      <td>0.0</td>\n",
              "      <td>39.6</td>\n",
              "      <td>0.0</td>\n",
              "      <td>0</td>\n",
              "    </tr>\n",
              "    <tr>\n",
              "      <th>108</th>\n",
              "      <td>109</td>\n",
              "      <td>D.J. Moore</td>\n",
              "      <td>CAR</td>\n",
              "      <td>23</td>\n",
              "      <td>WR</td>\n",
              "      <td>15</td>\n",
              "      <td>14</td>\n",
              "      <td>0</td>\n",
              "      <td>1</td>\n",
              "      <td>0.0</td>\n",
              "      <td>0</td>\n",
              "      <td>0</td>\n",
              "      <td>0</td>\n",
              "      <td>0</td>\n",
              "      <td>0.0</td>\n",
              "      <td>NaN</td>\n",
              "      <td>0.0</td>\n",
              "      <td>39.6</td>\n",
              "      <td>NaN</td>\n",
              "      <td>0</td>\n",
              "    </tr>\n",
              "    <tr>\n",
              "      <th>109</th>\n",
              "      <td>110</td>\n",
              "      <td>Zach Pascal</td>\n",
              "      <td>IND</td>\n",
              "      <td>26</td>\n",
              "      <td>WR</td>\n",
              "      <td>16</td>\n",
              "      <td>14</td>\n",
              "      <td>0</td>\n",
              "      <td>1</td>\n",
              "      <td>0.0</td>\n",
              "      <td>0</td>\n",
              "      <td>0</td>\n",
              "      <td>0</td>\n",
              "      <td>0</td>\n",
              "      <td>0.0</td>\n",
              "      <td>NaN</td>\n",
              "      <td>0.0</td>\n",
              "      <td>39.6</td>\n",
              "      <td>2.5</td>\n",
              "      <td>0</td>\n",
              "    </tr>\n",
              "    <tr>\n",
              "      <th>110</th>\n",
              "      <td>111</td>\n",
              "      <td>Sammy Watkins</td>\n",
              "      <td>KAN</td>\n",
              "      <td>27</td>\n",
              "      <td>WR</td>\n",
              "      <td>10</td>\n",
              "      <td>9</td>\n",
              "      <td>0</td>\n",
              "      <td>1</td>\n",
              "      <td>0.0</td>\n",
              "      <td>0</td>\n",
              "      <td>0</td>\n",
              "      <td>1</td>\n",
              "      <td>0</td>\n",
              "      <td>0.0</td>\n",
              "      <td>NaN</td>\n",
              "      <td>0.0</td>\n",
              "      <td>0.0</td>\n",
              "      <td>0.0</td>\n",
              "      <td>0</td>\n",
              "    </tr>\n",
              "    <tr>\n",
              "      <th>111</th>\n",
              "      <td>112</td>\n",
              "      <td>Isaiah Wright</td>\n",
              "      <td>WAS</td>\n",
              "      <td>23</td>\n",
              "      <td>WR</td>\n",
              "      <td>14</td>\n",
              "      <td>6</td>\n",
              "      <td>0</td>\n",
              "      <td>1</td>\n",
              "      <td>0.0</td>\n",
              "      <td>0</td>\n",
              "      <td>0</td>\n",
              "      <td>0</td>\n",
              "      <td>0</td>\n",
              "      <td>0.0</td>\n",
              "      <td>NaN</td>\n",
              "      <td>0.0</td>\n",
              "      <td>39.6</td>\n",
              "      <td>3.8</td>\n",
              "      <td>0</td>\n",
              "    </tr>\n",
              "  </tbody>\n",
              "</table>\n",
              "<p>112 rows × 20 columns</p>\n",
              "</div>"
            ],
            "text/plain": [
              "      Rk           Player   Tm  Age  Pos   G  ...  Y/A   Y/C    Y/G   Rate   QBR  Sk\n",
              "0      1   Deshaun Watson  HOU   25   QB  16  ...  8.9  12.6  301.4  112.4  70.5  49\n",
              "1      2  Patrick Mahomes  KAN   25   QB  15  ...  8.1  12.2  316.0  108.2  82.9  22\n",
              "2      3        Tom Brady  TAM   43   QB  16  ...  7.6  11.6  289.6  102.2  72.5  21\n",
              "3      4        Matt Ryan  ATL   35   QB  16  ...  7.3  11.3  286.3   93.3  67.0  41\n",
              "4      5       Josh Allen  BUF   24   QB  16  ...  7.9  11.5  284.0  107.2  81.7  26\n",
              "..   ...              ...  ...  ...  ...  ..  ...  ...   ...    ...    ...   ...  ..\n",
              "107  108       Brett Kern  TEN   34  NaN  13  ...  0.0   NaN    0.0   39.6   0.0   0\n",
              "108  109       D.J. Moore  CAR   23   WR  15  ...  0.0   NaN    0.0   39.6   NaN   0\n",
              "109  110      Zach Pascal  IND   26   WR  16  ...  0.0   NaN    0.0   39.6   2.5   0\n",
              "110  111    Sammy Watkins  KAN   27   WR  10  ...  0.0   NaN    0.0    0.0   0.0   0\n",
              "111  112    Isaiah Wright  WAS   23   WR  14  ...  0.0   NaN    0.0   39.6   3.8   0\n",
              "\n",
              "[112 rows x 20 columns]"
            ]
          },
          "metadata": {},
          "execution_count": 18
        }
      ]
    },
    {
      "cell_type": "code",
      "metadata": {
        "id": "TpNJd8R1bdtU"
      },
      "source": [
        "passing_df_cleaned.rename({'Tm' : 'Team',\n",
        "                  'Pos': 'Position',\n",
        "                  'G' : 'Games Played',\n",
        "                  'Yds':'Yards',\n",
        "                  'TD':'Touchdowns',\n",
        "                  'Int':'Interceptions',\n",
        "                  'Sk' :'Sacks'\n",
        "},axis=1, inplace=True)"
      ],
      "execution_count": 19,
      "outputs": []
    },
    {
      "cell_type": "markdown",
      "metadata": {
        "id": "uPt3FrjgafqE"
      },
      "source": [
        "In the Module 3 notebook we have this code: \n",
        "\n",
        "simple_df['TD/INT'] = simple_df['Touchdowns']/simple_df['Interceptions']\n",
        "\n",
        "We can create a function for this instead in case we want to try making columns of different types"
      ]
    },
    {
      "cell_type": "code",
      "metadata": {
        "id": "5prVVjWQZRqS"
      },
      "source": [
        "def create_ratios_column(df, new_col_name, col1, col2):\n",
        "  df[new_col_name] = df[col1]/df[col2]\n",
        "  return df\n",
        "\n",
        "passing_df_cleaned = create_ratios_column(passing_df_cleaned, 'TD/INT', 'Touchdowns', 'Interceptions')"
      ],
      "execution_count": 20,
      "outputs": []
    },
    {
      "cell_type": "code",
      "metadata": {
        "colab": {
          "base_uri": "https://localhost:8080/",
          "height": 419
        },
        "id": "7INcR_YHbIb-",
        "outputId": "e05de865-cb74-4816-8978-d2ae81c57154"
      },
      "source": [
        "passing_df_cleaned"
      ],
      "execution_count": 21,
      "outputs": [
        {
          "output_type": "execute_result",
          "data": {
            "text/html": [
              "<div>\n",
              "<style scoped>\n",
              "    .dataframe tbody tr th:only-of-type {\n",
              "        vertical-align: middle;\n",
              "    }\n",
              "\n",
              "    .dataframe tbody tr th {\n",
              "        vertical-align: top;\n",
              "    }\n",
              "\n",
              "    .dataframe thead th {\n",
              "        text-align: right;\n",
              "    }\n",
              "</style>\n",
              "<table border=\"1\" class=\"dataframe\">\n",
              "  <thead>\n",
              "    <tr style=\"text-align: right;\">\n",
              "      <th></th>\n",
              "      <th>Rk</th>\n",
              "      <th>Player</th>\n",
              "      <th>Team</th>\n",
              "      <th>Age</th>\n",
              "      <th>Position</th>\n",
              "      <th>Games Played</th>\n",
              "      <th>GS</th>\n",
              "      <th>Cmp</th>\n",
              "      <th>Att</th>\n",
              "      <th>Cmp%</th>\n",
              "      <th>Yards</th>\n",
              "      <th>Touchdowns</th>\n",
              "      <th>Interceptions</th>\n",
              "      <th>1D</th>\n",
              "      <th>Y/A</th>\n",
              "      <th>Y/C</th>\n",
              "      <th>Y/G</th>\n",
              "      <th>Rate</th>\n",
              "      <th>QBR</th>\n",
              "      <th>Sacks</th>\n",
              "      <th>TD/INT</th>\n",
              "    </tr>\n",
              "  </thead>\n",
              "  <tbody>\n",
              "    <tr>\n",
              "      <th>0</th>\n",
              "      <td>1</td>\n",
              "      <td>Deshaun Watson</td>\n",
              "      <td>HOU</td>\n",
              "      <td>25</td>\n",
              "      <td>QB</td>\n",
              "      <td>16</td>\n",
              "      <td>16</td>\n",
              "      <td>382</td>\n",
              "      <td>544</td>\n",
              "      <td>70.2</td>\n",
              "      <td>4823</td>\n",
              "      <td>33</td>\n",
              "      <td>7</td>\n",
              "      <td>221</td>\n",
              "      <td>8.9</td>\n",
              "      <td>12.6</td>\n",
              "      <td>301.4</td>\n",
              "      <td>112.4</td>\n",
              "      <td>70.5</td>\n",
              "      <td>49</td>\n",
              "      <td>4.714286</td>\n",
              "    </tr>\n",
              "    <tr>\n",
              "      <th>1</th>\n",
              "      <td>2</td>\n",
              "      <td>Patrick Mahomes</td>\n",
              "      <td>KAN</td>\n",
              "      <td>25</td>\n",
              "      <td>QB</td>\n",
              "      <td>15</td>\n",
              "      <td>15</td>\n",
              "      <td>390</td>\n",
              "      <td>588</td>\n",
              "      <td>66.3</td>\n",
              "      <td>4740</td>\n",
              "      <td>38</td>\n",
              "      <td>6</td>\n",
              "      <td>238</td>\n",
              "      <td>8.1</td>\n",
              "      <td>12.2</td>\n",
              "      <td>316.0</td>\n",
              "      <td>108.2</td>\n",
              "      <td>82.9</td>\n",
              "      <td>22</td>\n",
              "      <td>6.333333</td>\n",
              "    </tr>\n",
              "    <tr>\n",
              "      <th>2</th>\n",
              "      <td>3</td>\n",
              "      <td>Tom Brady</td>\n",
              "      <td>TAM</td>\n",
              "      <td>43</td>\n",
              "      <td>QB</td>\n",
              "      <td>16</td>\n",
              "      <td>16</td>\n",
              "      <td>401</td>\n",
              "      <td>610</td>\n",
              "      <td>65.7</td>\n",
              "      <td>4633</td>\n",
              "      <td>40</td>\n",
              "      <td>12</td>\n",
              "      <td>233</td>\n",
              "      <td>7.6</td>\n",
              "      <td>11.6</td>\n",
              "      <td>289.6</td>\n",
              "      <td>102.2</td>\n",
              "      <td>72.5</td>\n",
              "      <td>21</td>\n",
              "      <td>3.333333</td>\n",
              "    </tr>\n",
              "    <tr>\n",
              "      <th>3</th>\n",
              "      <td>4</td>\n",
              "      <td>Matt Ryan</td>\n",
              "      <td>ATL</td>\n",
              "      <td>35</td>\n",
              "      <td>QB</td>\n",
              "      <td>16</td>\n",
              "      <td>16</td>\n",
              "      <td>407</td>\n",
              "      <td>626</td>\n",
              "      <td>65.0</td>\n",
              "      <td>4581</td>\n",
              "      <td>26</td>\n",
              "      <td>11</td>\n",
              "      <td>242</td>\n",
              "      <td>7.3</td>\n",
              "      <td>11.3</td>\n",
              "      <td>286.3</td>\n",
              "      <td>93.3</td>\n",
              "      <td>67.0</td>\n",
              "      <td>41</td>\n",
              "      <td>2.363636</td>\n",
              "    </tr>\n",
              "    <tr>\n",
              "      <th>4</th>\n",
              "      <td>5</td>\n",
              "      <td>Josh Allen</td>\n",
              "      <td>BUF</td>\n",
              "      <td>24</td>\n",
              "      <td>QB</td>\n",
              "      <td>16</td>\n",
              "      <td>16</td>\n",
              "      <td>396</td>\n",
              "      <td>572</td>\n",
              "      <td>69.2</td>\n",
              "      <td>4544</td>\n",
              "      <td>37</td>\n",
              "      <td>10</td>\n",
              "      <td>228</td>\n",
              "      <td>7.9</td>\n",
              "      <td>11.5</td>\n",
              "      <td>284.0</td>\n",
              "      <td>107.2</td>\n",
              "      <td>81.7</td>\n",
              "      <td>26</td>\n",
              "      <td>3.700000</td>\n",
              "    </tr>\n",
              "    <tr>\n",
              "      <th>...</th>\n",
              "      <td>...</td>\n",
              "      <td>...</td>\n",
              "      <td>...</td>\n",
              "      <td>...</td>\n",
              "      <td>...</td>\n",
              "      <td>...</td>\n",
              "      <td>...</td>\n",
              "      <td>...</td>\n",
              "      <td>...</td>\n",
              "      <td>...</td>\n",
              "      <td>...</td>\n",
              "      <td>...</td>\n",
              "      <td>...</td>\n",
              "      <td>...</td>\n",
              "      <td>...</td>\n",
              "      <td>...</td>\n",
              "      <td>...</td>\n",
              "      <td>...</td>\n",
              "      <td>...</td>\n",
              "      <td>...</td>\n",
              "      <td>...</td>\n",
              "    </tr>\n",
              "    <tr>\n",
              "      <th>107</th>\n",
              "      <td>108</td>\n",
              "      <td>Brett Kern</td>\n",
              "      <td>TEN</td>\n",
              "      <td>34</td>\n",
              "      <td>NaN</td>\n",
              "      <td>13</td>\n",
              "      <td>0</td>\n",
              "      <td>0</td>\n",
              "      <td>1</td>\n",
              "      <td>0.0</td>\n",
              "      <td>0</td>\n",
              "      <td>0</td>\n",
              "      <td>0</td>\n",
              "      <td>0</td>\n",
              "      <td>0.0</td>\n",
              "      <td>NaN</td>\n",
              "      <td>0.0</td>\n",
              "      <td>39.6</td>\n",
              "      <td>0.0</td>\n",
              "      <td>0</td>\n",
              "      <td>NaN</td>\n",
              "    </tr>\n",
              "    <tr>\n",
              "      <th>108</th>\n",
              "      <td>109</td>\n",
              "      <td>D.J. Moore</td>\n",
              "      <td>CAR</td>\n",
              "      <td>23</td>\n",
              "      <td>WR</td>\n",
              "      <td>15</td>\n",
              "      <td>14</td>\n",
              "      <td>0</td>\n",
              "      <td>1</td>\n",
              "      <td>0.0</td>\n",
              "      <td>0</td>\n",
              "      <td>0</td>\n",
              "      <td>0</td>\n",
              "      <td>0</td>\n",
              "      <td>0.0</td>\n",
              "      <td>NaN</td>\n",
              "      <td>0.0</td>\n",
              "      <td>39.6</td>\n",
              "      <td>NaN</td>\n",
              "      <td>0</td>\n",
              "      <td>NaN</td>\n",
              "    </tr>\n",
              "    <tr>\n",
              "      <th>109</th>\n",
              "      <td>110</td>\n",
              "      <td>Zach Pascal</td>\n",
              "      <td>IND</td>\n",
              "      <td>26</td>\n",
              "      <td>WR</td>\n",
              "      <td>16</td>\n",
              "      <td>14</td>\n",
              "      <td>0</td>\n",
              "      <td>1</td>\n",
              "      <td>0.0</td>\n",
              "      <td>0</td>\n",
              "      <td>0</td>\n",
              "      <td>0</td>\n",
              "      <td>0</td>\n",
              "      <td>0.0</td>\n",
              "      <td>NaN</td>\n",
              "      <td>0.0</td>\n",
              "      <td>39.6</td>\n",
              "      <td>2.5</td>\n",
              "      <td>0</td>\n",
              "      <td>NaN</td>\n",
              "    </tr>\n",
              "    <tr>\n",
              "      <th>110</th>\n",
              "      <td>111</td>\n",
              "      <td>Sammy Watkins</td>\n",
              "      <td>KAN</td>\n",
              "      <td>27</td>\n",
              "      <td>WR</td>\n",
              "      <td>10</td>\n",
              "      <td>9</td>\n",
              "      <td>0</td>\n",
              "      <td>1</td>\n",
              "      <td>0.0</td>\n",
              "      <td>0</td>\n",
              "      <td>0</td>\n",
              "      <td>1</td>\n",
              "      <td>0</td>\n",
              "      <td>0.0</td>\n",
              "      <td>NaN</td>\n",
              "      <td>0.0</td>\n",
              "      <td>0.0</td>\n",
              "      <td>0.0</td>\n",
              "      <td>0</td>\n",
              "      <td>0.000000</td>\n",
              "    </tr>\n",
              "    <tr>\n",
              "      <th>111</th>\n",
              "      <td>112</td>\n",
              "      <td>Isaiah Wright</td>\n",
              "      <td>WAS</td>\n",
              "      <td>23</td>\n",
              "      <td>WR</td>\n",
              "      <td>14</td>\n",
              "      <td>6</td>\n",
              "      <td>0</td>\n",
              "      <td>1</td>\n",
              "      <td>0.0</td>\n",
              "      <td>0</td>\n",
              "      <td>0</td>\n",
              "      <td>0</td>\n",
              "      <td>0</td>\n",
              "      <td>0.0</td>\n",
              "      <td>NaN</td>\n",
              "      <td>0.0</td>\n",
              "      <td>39.6</td>\n",
              "      <td>3.8</td>\n",
              "      <td>0</td>\n",
              "      <td>NaN</td>\n",
              "    </tr>\n",
              "  </tbody>\n",
              "</table>\n",
              "<p>112 rows × 21 columns</p>\n",
              "</div>"
            ],
            "text/plain": [
              "      Rk           Player Team  Age  ...   Rate   QBR  Sacks    TD/INT\n",
              "0      1   Deshaun Watson  HOU   25  ...  112.4  70.5     49  4.714286\n",
              "1      2  Patrick Mahomes  KAN   25  ...  108.2  82.9     22  6.333333\n",
              "2      3        Tom Brady  TAM   43  ...  102.2  72.5     21  3.333333\n",
              "3      4        Matt Ryan  ATL   35  ...   93.3  67.0     41  2.363636\n",
              "4      5       Josh Allen  BUF   24  ...  107.2  81.7     26  3.700000\n",
              "..   ...              ...  ...  ...  ...    ...   ...    ...       ...\n",
              "107  108       Brett Kern  TEN   34  ...   39.6   0.0      0       NaN\n",
              "108  109       D.J. Moore  CAR   23  ...   39.6   NaN      0       NaN\n",
              "109  110      Zach Pascal  IND   26  ...   39.6   2.5      0       NaN\n",
              "110  111    Sammy Watkins  KAN   27  ...    0.0   0.0      0  0.000000\n",
              "111  112    Isaiah Wright  WAS   23  ...   39.6   3.8      0       NaN\n",
              "\n",
              "[112 rows x 21 columns]"
            ]
          },
          "metadata": {},
          "execution_count": 21
        }
      ]
    },
    {
      "cell_type": "markdown",
      "metadata": {
        "id": "ZSdH_1Cbb_hA"
      },
      "source": [
        "Now we can add new columns very easily, as shown below:"
      ]
    },
    {
      "cell_type": "code",
      "metadata": {
        "id": "_KwYcOCBbknN"
      },
      "source": [
        "passing_df_cleaned = create_ratios_column(passing_df_cleaned, 'INT/GS', 'Interceptions','GS')"
      ],
      "execution_count": 22,
      "outputs": []
    },
    {
      "cell_type": "code",
      "metadata": {
        "colab": {
          "base_uri": "https://localhost:8080/",
          "height": 419
        },
        "id": "vCq3nP6Lbzir",
        "outputId": "12ca0d3b-8844-4dc5-ea31-ce285334718a"
      },
      "source": [
        "passing_df_cleaned"
      ],
      "execution_count": 23,
      "outputs": [
        {
          "output_type": "execute_result",
          "data": {
            "text/html": [
              "<div>\n",
              "<style scoped>\n",
              "    .dataframe tbody tr th:only-of-type {\n",
              "        vertical-align: middle;\n",
              "    }\n",
              "\n",
              "    .dataframe tbody tr th {\n",
              "        vertical-align: top;\n",
              "    }\n",
              "\n",
              "    .dataframe thead th {\n",
              "        text-align: right;\n",
              "    }\n",
              "</style>\n",
              "<table border=\"1\" class=\"dataframe\">\n",
              "  <thead>\n",
              "    <tr style=\"text-align: right;\">\n",
              "      <th></th>\n",
              "      <th>Rk</th>\n",
              "      <th>Player</th>\n",
              "      <th>Team</th>\n",
              "      <th>Age</th>\n",
              "      <th>Position</th>\n",
              "      <th>Games Played</th>\n",
              "      <th>GS</th>\n",
              "      <th>Cmp</th>\n",
              "      <th>Att</th>\n",
              "      <th>Cmp%</th>\n",
              "      <th>Yards</th>\n",
              "      <th>Touchdowns</th>\n",
              "      <th>Interceptions</th>\n",
              "      <th>1D</th>\n",
              "      <th>Y/A</th>\n",
              "      <th>Y/C</th>\n",
              "      <th>Y/G</th>\n",
              "      <th>Rate</th>\n",
              "      <th>QBR</th>\n",
              "      <th>Sacks</th>\n",
              "      <th>TD/INT</th>\n",
              "      <th>INT/GS</th>\n",
              "    </tr>\n",
              "  </thead>\n",
              "  <tbody>\n",
              "    <tr>\n",
              "      <th>0</th>\n",
              "      <td>1</td>\n",
              "      <td>Deshaun Watson</td>\n",
              "      <td>HOU</td>\n",
              "      <td>25</td>\n",
              "      <td>QB</td>\n",
              "      <td>16</td>\n",
              "      <td>16</td>\n",
              "      <td>382</td>\n",
              "      <td>544</td>\n",
              "      <td>70.2</td>\n",
              "      <td>4823</td>\n",
              "      <td>33</td>\n",
              "      <td>7</td>\n",
              "      <td>221</td>\n",
              "      <td>8.9</td>\n",
              "      <td>12.6</td>\n",
              "      <td>301.4</td>\n",
              "      <td>112.4</td>\n",
              "      <td>70.5</td>\n",
              "      <td>49</td>\n",
              "      <td>4.714286</td>\n",
              "      <td>0.437500</td>\n",
              "    </tr>\n",
              "    <tr>\n",
              "      <th>1</th>\n",
              "      <td>2</td>\n",
              "      <td>Patrick Mahomes</td>\n",
              "      <td>KAN</td>\n",
              "      <td>25</td>\n",
              "      <td>QB</td>\n",
              "      <td>15</td>\n",
              "      <td>15</td>\n",
              "      <td>390</td>\n",
              "      <td>588</td>\n",
              "      <td>66.3</td>\n",
              "      <td>4740</td>\n",
              "      <td>38</td>\n",
              "      <td>6</td>\n",
              "      <td>238</td>\n",
              "      <td>8.1</td>\n",
              "      <td>12.2</td>\n",
              "      <td>316.0</td>\n",
              "      <td>108.2</td>\n",
              "      <td>82.9</td>\n",
              "      <td>22</td>\n",
              "      <td>6.333333</td>\n",
              "      <td>0.400000</td>\n",
              "    </tr>\n",
              "    <tr>\n",
              "      <th>2</th>\n",
              "      <td>3</td>\n",
              "      <td>Tom Brady</td>\n",
              "      <td>TAM</td>\n",
              "      <td>43</td>\n",
              "      <td>QB</td>\n",
              "      <td>16</td>\n",
              "      <td>16</td>\n",
              "      <td>401</td>\n",
              "      <td>610</td>\n",
              "      <td>65.7</td>\n",
              "      <td>4633</td>\n",
              "      <td>40</td>\n",
              "      <td>12</td>\n",
              "      <td>233</td>\n",
              "      <td>7.6</td>\n",
              "      <td>11.6</td>\n",
              "      <td>289.6</td>\n",
              "      <td>102.2</td>\n",
              "      <td>72.5</td>\n",
              "      <td>21</td>\n",
              "      <td>3.333333</td>\n",
              "      <td>0.750000</td>\n",
              "    </tr>\n",
              "    <tr>\n",
              "      <th>3</th>\n",
              "      <td>4</td>\n",
              "      <td>Matt Ryan</td>\n",
              "      <td>ATL</td>\n",
              "      <td>35</td>\n",
              "      <td>QB</td>\n",
              "      <td>16</td>\n",
              "      <td>16</td>\n",
              "      <td>407</td>\n",
              "      <td>626</td>\n",
              "      <td>65.0</td>\n",
              "      <td>4581</td>\n",
              "      <td>26</td>\n",
              "      <td>11</td>\n",
              "      <td>242</td>\n",
              "      <td>7.3</td>\n",
              "      <td>11.3</td>\n",
              "      <td>286.3</td>\n",
              "      <td>93.3</td>\n",
              "      <td>67.0</td>\n",
              "      <td>41</td>\n",
              "      <td>2.363636</td>\n",
              "      <td>0.687500</td>\n",
              "    </tr>\n",
              "    <tr>\n",
              "      <th>4</th>\n",
              "      <td>5</td>\n",
              "      <td>Josh Allen</td>\n",
              "      <td>BUF</td>\n",
              "      <td>24</td>\n",
              "      <td>QB</td>\n",
              "      <td>16</td>\n",
              "      <td>16</td>\n",
              "      <td>396</td>\n",
              "      <td>572</td>\n",
              "      <td>69.2</td>\n",
              "      <td>4544</td>\n",
              "      <td>37</td>\n",
              "      <td>10</td>\n",
              "      <td>228</td>\n",
              "      <td>7.9</td>\n",
              "      <td>11.5</td>\n",
              "      <td>284.0</td>\n",
              "      <td>107.2</td>\n",
              "      <td>81.7</td>\n",
              "      <td>26</td>\n",
              "      <td>3.700000</td>\n",
              "      <td>0.625000</td>\n",
              "    </tr>\n",
              "    <tr>\n",
              "      <th>...</th>\n",
              "      <td>...</td>\n",
              "      <td>...</td>\n",
              "      <td>...</td>\n",
              "      <td>...</td>\n",
              "      <td>...</td>\n",
              "      <td>...</td>\n",
              "      <td>...</td>\n",
              "      <td>...</td>\n",
              "      <td>...</td>\n",
              "      <td>...</td>\n",
              "      <td>...</td>\n",
              "      <td>...</td>\n",
              "      <td>...</td>\n",
              "      <td>...</td>\n",
              "      <td>...</td>\n",
              "      <td>...</td>\n",
              "      <td>...</td>\n",
              "      <td>...</td>\n",
              "      <td>...</td>\n",
              "      <td>...</td>\n",
              "      <td>...</td>\n",
              "      <td>...</td>\n",
              "    </tr>\n",
              "    <tr>\n",
              "      <th>107</th>\n",
              "      <td>108</td>\n",
              "      <td>Brett Kern</td>\n",
              "      <td>TEN</td>\n",
              "      <td>34</td>\n",
              "      <td>NaN</td>\n",
              "      <td>13</td>\n",
              "      <td>0</td>\n",
              "      <td>0</td>\n",
              "      <td>1</td>\n",
              "      <td>0.0</td>\n",
              "      <td>0</td>\n",
              "      <td>0</td>\n",
              "      <td>0</td>\n",
              "      <td>0</td>\n",
              "      <td>0.0</td>\n",
              "      <td>NaN</td>\n",
              "      <td>0.0</td>\n",
              "      <td>39.6</td>\n",
              "      <td>0.0</td>\n",
              "      <td>0</td>\n",
              "      <td>NaN</td>\n",
              "      <td>NaN</td>\n",
              "    </tr>\n",
              "    <tr>\n",
              "      <th>108</th>\n",
              "      <td>109</td>\n",
              "      <td>D.J. Moore</td>\n",
              "      <td>CAR</td>\n",
              "      <td>23</td>\n",
              "      <td>WR</td>\n",
              "      <td>15</td>\n",
              "      <td>14</td>\n",
              "      <td>0</td>\n",
              "      <td>1</td>\n",
              "      <td>0.0</td>\n",
              "      <td>0</td>\n",
              "      <td>0</td>\n",
              "      <td>0</td>\n",
              "      <td>0</td>\n",
              "      <td>0.0</td>\n",
              "      <td>NaN</td>\n",
              "      <td>0.0</td>\n",
              "      <td>39.6</td>\n",
              "      <td>NaN</td>\n",
              "      <td>0</td>\n",
              "      <td>NaN</td>\n",
              "      <td>0.000000</td>\n",
              "    </tr>\n",
              "    <tr>\n",
              "      <th>109</th>\n",
              "      <td>110</td>\n",
              "      <td>Zach Pascal</td>\n",
              "      <td>IND</td>\n",
              "      <td>26</td>\n",
              "      <td>WR</td>\n",
              "      <td>16</td>\n",
              "      <td>14</td>\n",
              "      <td>0</td>\n",
              "      <td>1</td>\n",
              "      <td>0.0</td>\n",
              "      <td>0</td>\n",
              "      <td>0</td>\n",
              "      <td>0</td>\n",
              "      <td>0</td>\n",
              "      <td>0.0</td>\n",
              "      <td>NaN</td>\n",
              "      <td>0.0</td>\n",
              "      <td>39.6</td>\n",
              "      <td>2.5</td>\n",
              "      <td>0</td>\n",
              "      <td>NaN</td>\n",
              "      <td>0.000000</td>\n",
              "    </tr>\n",
              "    <tr>\n",
              "      <th>110</th>\n",
              "      <td>111</td>\n",
              "      <td>Sammy Watkins</td>\n",
              "      <td>KAN</td>\n",
              "      <td>27</td>\n",
              "      <td>WR</td>\n",
              "      <td>10</td>\n",
              "      <td>9</td>\n",
              "      <td>0</td>\n",
              "      <td>1</td>\n",
              "      <td>0.0</td>\n",
              "      <td>0</td>\n",
              "      <td>0</td>\n",
              "      <td>1</td>\n",
              "      <td>0</td>\n",
              "      <td>0.0</td>\n",
              "      <td>NaN</td>\n",
              "      <td>0.0</td>\n",
              "      <td>0.0</td>\n",
              "      <td>0.0</td>\n",
              "      <td>0</td>\n",
              "      <td>0.000000</td>\n",
              "      <td>0.111111</td>\n",
              "    </tr>\n",
              "    <tr>\n",
              "      <th>111</th>\n",
              "      <td>112</td>\n",
              "      <td>Isaiah Wright</td>\n",
              "      <td>WAS</td>\n",
              "      <td>23</td>\n",
              "      <td>WR</td>\n",
              "      <td>14</td>\n",
              "      <td>6</td>\n",
              "      <td>0</td>\n",
              "      <td>1</td>\n",
              "      <td>0.0</td>\n",
              "      <td>0</td>\n",
              "      <td>0</td>\n",
              "      <td>0</td>\n",
              "      <td>0</td>\n",
              "      <td>0.0</td>\n",
              "      <td>NaN</td>\n",
              "      <td>0.0</td>\n",
              "      <td>39.6</td>\n",
              "      <td>3.8</td>\n",
              "      <td>0</td>\n",
              "      <td>NaN</td>\n",
              "      <td>0.000000</td>\n",
              "    </tr>\n",
              "  </tbody>\n",
              "</table>\n",
              "<p>112 rows × 22 columns</p>\n",
              "</div>"
            ],
            "text/plain": [
              "      Rk           Player Team  Age  ...   QBR  Sacks    TD/INT    INT/GS\n",
              "0      1   Deshaun Watson  HOU   25  ...  70.5     49  4.714286  0.437500\n",
              "1      2  Patrick Mahomes  KAN   25  ...  82.9     22  6.333333  0.400000\n",
              "2      3        Tom Brady  TAM   43  ...  72.5     21  3.333333  0.750000\n",
              "3      4        Matt Ryan  ATL   35  ...  67.0     41  2.363636  0.687500\n",
              "4      5       Josh Allen  BUF   24  ...  81.7     26  3.700000  0.625000\n",
              "..   ...              ...  ...  ...  ...   ...    ...       ...       ...\n",
              "107  108       Brett Kern  TEN   34  ...   0.0      0       NaN       NaN\n",
              "108  109       D.J. Moore  CAR   23  ...   NaN      0       NaN  0.000000\n",
              "109  110      Zach Pascal  IND   26  ...   2.5      0       NaN  0.000000\n",
              "110  111    Sammy Watkins  KAN   27  ...   0.0      0  0.000000  0.111111\n",
              "111  112    Isaiah Wright  WAS   23  ...   3.8      0       NaN  0.000000\n",
              "\n",
              "[112 rows x 22 columns]"
            ]
          },
          "metadata": {},
          "execution_count": 23
        }
      ]
    },
    {
      "cell_type": "markdown",
      "metadata": {
        "id": "uml_HoWMcQ1r"
      },
      "source": [
        "Challenge: Look back at the \"nfc_east\" variable from Module 3: Can you make this a function? If you can do this, make a function so you can easily retrieve any division in football you want."
      ]
    },
    {
      "cell_type": "code",
      "metadata": {
        "colab": {
          "base_uri": "https://localhost:8080/"
        },
        "id": "FG3aE0j2eK7C",
        "outputId": "1eb781f3-2cc8-470e-abb2-fe69325d7001"
      },
      "source": [
        "# use this as help when finding team initials:\n",
        "\n",
        "set(passing_df_cleaned['Team'])"
      ],
      "execution_count": 24,
      "outputs": [
        {
          "output_type": "execute_result",
          "data": {
            "text/plain": [
              "{'ARI',\n",
              " 'ATL',\n",
              " 'BAL',\n",
              " 'BUF',\n",
              " 'CAR',\n",
              " 'CHI',\n",
              " 'CIN',\n",
              " 'CLE',\n",
              " 'DAL',\n",
              " 'DEN',\n",
              " 'DET',\n",
              " 'GNB',\n",
              " 'HOU',\n",
              " 'IND',\n",
              " 'JAX',\n",
              " 'KAN',\n",
              " 'LAC',\n",
              " 'LAR',\n",
              " 'LVR',\n",
              " 'MIA',\n",
              " 'MIN',\n",
              " 'NOR',\n",
              " 'NWE',\n",
              " 'NYG',\n",
              " 'NYJ',\n",
              " 'PHI',\n",
              " 'PIT',\n",
              " 'SEA',\n",
              " 'SFO',\n",
              " 'TAM',\n",
              " 'TEN',\n",
              " 'WAS'}"
            ]
          },
          "metadata": {},
          "execution_count": 24
        }
      ]
    },
    {
      "cell_type": "code",
      "metadata": {
        "id": "34wjOMb_b4Ex"
      },
      "source": [
        ""
      ],
      "execution_count": 24,
      "outputs": []
    },
    {
      "cell_type": "code",
      "metadata": {
        "id": "h2UUDYLPdOVX"
      },
      "source": [
        ""
      ],
      "execution_count": 24,
      "outputs": []
    },
    {
      "cell_type": "markdown",
      "metadata": {
        "id": "XrU-EsF_defT"
      },
      "source": [
        "Use the code so that you can isolate passing stats for AFC East wide receivers:"
      ]
    },
    {
      "cell_type": "code",
      "metadata": {
        "id": "GKI7OzDYdWN8"
      },
      "source": [
        ""
      ],
      "execution_count": 24,
      "outputs": []
    },
    {
      "cell_type": "markdown",
      "metadata": {
        "id": "zwWnCriacikJ"
      },
      "source": [
        ""
      ]
    }
  ]
}